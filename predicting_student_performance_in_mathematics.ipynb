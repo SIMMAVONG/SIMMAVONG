{
  "cells": [
    {
      "cell_type": "markdown",
      "metadata": {
        "id": "view-in-github",
        "colab_type": "text"
      },
      "source": [
        "<a href=\"https://colab.research.google.com/github/SIMMAVONG/SIMMAVONG/blob/main/predicting_student_performance_in_mathematics.ipynb\" target=\"_parent\"><img src=\"https://colab.research.google.com/assets/colab-badge.svg\" alt=\"Open In Colab\"/></a>"
      ]
    },
    {
      "cell_type": "markdown",
      "metadata": {
        "id": "goSrPMhXx4fx"
      },
      "source": [
        "# Predicting Student Performance in Mathematics\n",
        "\n",
        "The obejctive of this project is to build and compare three binary classifiers for predicting student performance in Mathematics, using the data collected from two public schools in Portugal during the school year 2005/06. The dataset was retrieved from the UCI Machine\n",
        "Learning Repository (Cortez & Silva, 2008). The descriptive features include 5 numeric, 17 nominal and 10 ordinal features.\n",
        "The target feature, G3, is a numeric variable, which shows the final grade. The values of G3 range from 0 to 20, where 0 represents the lowest grade while 20 represents full marks. For a binary classification, G3 values that are greater or equal to 10 represent \"Pass\", else \"Fail\".\n",
        "\n",
        "## Outline:\n",
        "- [Section 1 (Overview)](#1)\n",
        "- [Section 2 (Data Preparation)](#2)  \n",
        "- [Section 3 (Hyperparameter Tuning)](#3)\n",
        "- [Section 4 (Performance Comparison)](#4)\n",
        "- [Section 5 (Summary)](#5)\n",
        "- [Section 6 (References)](#6)"
      ]
    },
    {
      "cell_type": "code",
      "source": [
        "from google.colab import drive\n",
        "drive.mount('/content/drive')"
      ],
      "metadata": {
        "colab": {
          "base_uri": "https://localhost:8080/"
        },
        "id": "CyI9L6IwyHvb",
        "outputId": "4b45b292-4950-461d-d6f8-777152ddc7b4"
      },
      "execution_count": 2,
      "outputs": [
        {
          "output_type": "stream",
          "name": "stdout",
          "text": [
            "Drive already mounted at /content/drive; to attempt to forcibly remount, call drive.mount(\"/content/drive\", force_remount=True).\n"
          ]
        }
      ]
    },
    {
      "cell_type": "markdown",
      "metadata": {
        "id": "iWprg6pVx4gF"
      },
      "source": [
        "# Overview <a class=\"anchor\" id=\"1\"></a>\n",
        "\n",
        "## Methodology\n",
        "\n",
        "I build three classification models, K-Nearest Neighbors (KNN), Decision Trees (DT) and Naive Bayes (NB), to predict whether students pass or fail in Mathematics.\n",
        "\n",
        "I start by transforming the dataset. The categorical features are encoded into numerical features and the whole descriptive features are scaled using Min-Max Scaling. The dataset is then partitioned into two parts at a 70:30 ratio for training and test.\n",
        "\n",
        "Then, given the large number of columns of descriptive features after transformation, applying feature selection could be beneficial before fitting the model. I select the top 10 features by Random Forest Importance and F-Score. Then, I compare the performance of these two feature selection methods and continue with the better one for further model fitting.\n",
        "\n",
        "After the feature selection, I train the models with hyperparameter search in a pipeline with 5-fold repeated stratified cross-validation based on the train data with full features and the same train data but only with the top 10 features selected in the previous stage.\n",
        "\n",
        "Stratification is necessary throughout the model fitting and selection as the binary target classes are imbalanced.\n",
        "\n",
        "In the end, I fit the best models identified from the hyperparameter search on the test data with a 5-fold repeated stratified cross-validation and compare the model performance by a paired t-test to determine if these models yield any significant differences. The comparison is initially based on the metric area under curve (AUC), and I integrate other evaluation metrics, such as recall, precision, and F1-score, for a comprehensive and in-depth comparison."
      ]
    },
    {
      "cell_type": "markdown",
      "metadata": {
        "id": "g5ExLe-Zx4gH"
      },
      "source": [
        "# Data Preparation <a class=\"anchor\" id=\"2\"></a>\n",
        "\n",
        "## Loading Dataset"
      ]
    },
    {
      "cell_type": "code",
      "execution_count": 14,
      "metadata": {
        "id": "QEEg5WANx4gI"
      },
      "outputs": [],
      "source": [
        "import warnings\n",
        "warnings.filterwarnings(\"ignore\")\n",
        "import pandas as pd\n",
        "import numpy as np\n",
        "np.random.seed(999)"
      ]
    },
    {
      "cell_type": "code",
      "execution_count": 15,
      "metadata": {
        "_cell_guid": "b1076dfc-b9ad-4769-8c92-a6c4dae69d19",
        "_uuid": "8f2839f25d086af736a60e9eeb907d3b93b6e0e5",
        "colab": {
          "base_uri": "https://localhost:8080/",
          "height": 300
        },
        "id": "nsKKa2z0x4gK",
        "outputId": "9f9f058c-a3da-42f5-87cb-6116ffb74066"
      },
      "outputs": [
        {
          "output_type": "execute_result",
          "data": {
            "text/plain": [
              "  school sex  age address famsize Pstatus  Medu  Fedu     Mjob      Fjob  ...  \\\n",
              "0     GP   F   18       U     GT3       A     4     4  at_home   teacher  ...   \n",
              "1     GP   F   17       U     GT3       T     1     1  at_home     other  ...   \n",
              "2     GP   F   15       U     LE3       T     1     1  at_home     other  ...   \n",
              "3     GP   F   15       U     GT3       T     4     2   health  services  ...   \n",
              "4     GP   F   16       U     GT3       T     3     3    other     other  ...   \n",
              "\n",
              "  freetime goout  Dalc  Walc  health absences  G1  G2  G3 target  \n",
              "0        3     4     1     1       3        6   5   6   6   fail  \n",
              "1        3     3     1     1       3        4   5   5   6   fail  \n",
              "2        3     2     2     3       3       10   7   8  10   pass  \n",
              "3        2     2     1     1       5        2  15  14  15   pass  \n",
              "4        3     2     1     2       5        4   6  10  10   pass  \n",
              "\n",
              "[5 rows x 34 columns]"
            ],
            "text/html": [
              "\n",
              "  <div id=\"df-549d04bc-8c98-4619-bfad-2b57cc420d16\">\n",
              "    <div class=\"colab-df-container\">\n",
              "      <div>\n",
              "<style scoped>\n",
              "    .dataframe tbody tr th:only-of-type {\n",
              "        vertical-align: middle;\n",
              "    }\n",
              "\n",
              "    .dataframe tbody tr th {\n",
              "        vertical-align: top;\n",
              "    }\n",
              "\n",
              "    .dataframe thead th {\n",
              "        text-align: right;\n",
              "    }\n",
              "</style>\n",
              "<table border=\"1\" class=\"dataframe\">\n",
              "  <thead>\n",
              "    <tr style=\"text-align: right;\">\n",
              "      <th></th>\n",
              "      <th>school</th>\n",
              "      <th>sex</th>\n",
              "      <th>age</th>\n",
              "      <th>address</th>\n",
              "      <th>famsize</th>\n",
              "      <th>Pstatus</th>\n",
              "      <th>Medu</th>\n",
              "      <th>Fedu</th>\n",
              "      <th>Mjob</th>\n",
              "      <th>Fjob</th>\n",
              "      <th>...</th>\n",
              "      <th>freetime</th>\n",
              "      <th>goout</th>\n",
              "      <th>Dalc</th>\n",
              "      <th>Walc</th>\n",
              "      <th>health</th>\n",
              "      <th>absences</th>\n",
              "      <th>G1</th>\n",
              "      <th>G2</th>\n",
              "      <th>G3</th>\n",
              "      <th>target</th>\n",
              "    </tr>\n",
              "  </thead>\n",
              "  <tbody>\n",
              "    <tr>\n",
              "      <th>0</th>\n",
              "      <td>GP</td>\n",
              "      <td>F</td>\n",
              "      <td>18</td>\n",
              "      <td>U</td>\n",
              "      <td>GT3</td>\n",
              "      <td>A</td>\n",
              "      <td>4</td>\n",
              "      <td>4</td>\n",
              "      <td>at_home</td>\n",
              "      <td>teacher</td>\n",
              "      <td>...</td>\n",
              "      <td>3</td>\n",
              "      <td>4</td>\n",
              "      <td>1</td>\n",
              "      <td>1</td>\n",
              "      <td>3</td>\n",
              "      <td>6</td>\n",
              "      <td>5</td>\n",
              "      <td>6</td>\n",
              "      <td>6</td>\n",
              "      <td>fail</td>\n",
              "    </tr>\n",
              "    <tr>\n",
              "      <th>1</th>\n",
              "      <td>GP</td>\n",
              "      <td>F</td>\n",
              "      <td>17</td>\n",
              "      <td>U</td>\n",
              "      <td>GT3</td>\n",
              "      <td>T</td>\n",
              "      <td>1</td>\n",
              "      <td>1</td>\n",
              "      <td>at_home</td>\n",
              "      <td>other</td>\n",
              "      <td>...</td>\n",
              "      <td>3</td>\n",
              "      <td>3</td>\n",
              "      <td>1</td>\n",
              "      <td>1</td>\n",
              "      <td>3</td>\n",
              "      <td>4</td>\n",
              "      <td>5</td>\n",
              "      <td>5</td>\n",
              "      <td>6</td>\n",
              "      <td>fail</td>\n",
              "    </tr>\n",
              "    <tr>\n",
              "      <th>2</th>\n",
              "      <td>GP</td>\n",
              "      <td>F</td>\n",
              "      <td>15</td>\n",
              "      <td>U</td>\n",
              "      <td>LE3</td>\n",
              "      <td>T</td>\n",
              "      <td>1</td>\n",
              "      <td>1</td>\n",
              "      <td>at_home</td>\n",
              "      <td>other</td>\n",
              "      <td>...</td>\n",
              "      <td>3</td>\n",
              "      <td>2</td>\n",
              "      <td>2</td>\n",
              "      <td>3</td>\n",
              "      <td>3</td>\n",
              "      <td>10</td>\n",
              "      <td>7</td>\n",
              "      <td>8</td>\n",
              "      <td>10</td>\n",
              "      <td>pass</td>\n",
              "    </tr>\n",
              "    <tr>\n",
              "      <th>3</th>\n",
              "      <td>GP</td>\n",
              "      <td>F</td>\n",
              "      <td>15</td>\n",
              "      <td>U</td>\n",
              "      <td>GT3</td>\n",
              "      <td>T</td>\n",
              "      <td>4</td>\n",
              "      <td>2</td>\n",
              "      <td>health</td>\n",
              "      <td>services</td>\n",
              "      <td>...</td>\n",
              "      <td>2</td>\n",
              "      <td>2</td>\n",
              "      <td>1</td>\n",
              "      <td>1</td>\n",
              "      <td>5</td>\n",
              "      <td>2</td>\n",
              "      <td>15</td>\n",
              "      <td>14</td>\n",
              "      <td>15</td>\n",
              "      <td>pass</td>\n",
              "    </tr>\n",
              "    <tr>\n",
              "      <th>4</th>\n",
              "      <td>GP</td>\n",
              "      <td>F</td>\n",
              "      <td>16</td>\n",
              "      <td>U</td>\n",
              "      <td>GT3</td>\n",
              "      <td>T</td>\n",
              "      <td>3</td>\n",
              "      <td>3</td>\n",
              "      <td>other</td>\n",
              "      <td>other</td>\n",
              "      <td>...</td>\n",
              "      <td>3</td>\n",
              "      <td>2</td>\n",
              "      <td>1</td>\n",
              "      <td>2</td>\n",
              "      <td>5</td>\n",
              "      <td>4</td>\n",
              "      <td>6</td>\n",
              "      <td>10</td>\n",
              "      <td>10</td>\n",
              "      <td>pass</td>\n",
              "    </tr>\n",
              "  </tbody>\n",
              "</table>\n",
              "<p>5 rows × 34 columns</p>\n",
              "</div>\n",
              "      <button class=\"colab-df-convert\" onclick=\"convertToInteractive('df-549d04bc-8c98-4619-bfad-2b57cc420d16')\"\n",
              "              title=\"Convert this dataframe to an interactive table.\"\n",
              "              style=\"display:none;\">\n",
              "        \n",
              "  <svg xmlns=\"http://www.w3.org/2000/svg\" height=\"24px\"viewBox=\"0 0 24 24\"\n",
              "       width=\"24px\">\n",
              "    <path d=\"M0 0h24v24H0V0z\" fill=\"none\"/>\n",
              "    <path d=\"M18.56 5.44l.94 2.06.94-2.06 2.06-.94-2.06-.94-.94-2.06-.94 2.06-2.06.94zm-11 1L8.5 8.5l.94-2.06 2.06-.94-2.06-.94L8.5 2.5l-.94 2.06-2.06.94zm10 10l.94 2.06.94-2.06 2.06-.94-2.06-.94-.94-2.06-.94 2.06-2.06.94z\"/><path d=\"M17.41 7.96l-1.37-1.37c-.4-.4-.92-.59-1.43-.59-.52 0-1.04.2-1.43.59L10.3 9.45l-7.72 7.72c-.78.78-.78 2.05 0 2.83L4 21.41c.39.39.9.59 1.41.59.51 0 1.02-.2 1.41-.59l7.78-7.78 2.81-2.81c.8-.78.8-2.07 0-2.86zM5.41 20L4 18.59l7.72-7.72 1.47 1.35L5.41 20z\"/>\n",
              "  </svg>\n",
              "      </button>\n",
              "      \n",
              "  <style>\n",
              "    .colab-df-container {\n",
              "      display:flex;\n",
              "      flex-wrap:wrap;\n",
              "      gap: 12px;\n",
              "    }\n",
              "\n",
              "    .colab-df-convert {\n",
              "      background-color: #E8F0FE;\n",
              "      border: none;\n",
              "      border-radius: 50%;\n",
              "      cursor: pointer;\n",
              "      display: none;\n",
              "      fill: #1967D2;\n",
              "      height: 32px;\n",
              "      padding: 0 0 0 0;\n",
              "      width: 32px;\n",
              "    }\n",
              "\n",
              "    .colab-df-convert:hover {\n",
              "      background-color: #E2EBFA;\n",
              "      box-shadow: 0px 1px 2px rgba(60, 64, 67, 0.3), 0px 1px 3px 1px rgba(60, 64, 67, 0.15);\n",
              "      fill: #174EA6;\n",
              "    }\n",
              "\n",
              "    [theme=dark] .colab-df-convert {\n",
              "      background-color: #3B4455;\n",
              "      fill: #D2E3FC;\n",
              "    }\n",
              "\n",
              "    [theme=dark] .colab-df-convert:hover {\n",
              "      background-color: #434B5C;\n",
              "      box-shadow: 0px 1px 3px 1px rgba(0, 0, 0, 0.15);\n",
              "      filter: drop-shadow(0px 1px 2px rgba(0, 0, 0, 0.3));\n",
              "      fill: #FFFFFF;\n",
              "    }\n",
              "  </style>\n",
              "\n",
              "      <script>\n",
              "        const buttonEl =\n",
              "          document.querySelector('#df-549d04bc-8c98-4619-bfad-2b57cc420d16 button.colab-df-convert');\n",
              "        buttonEl.style.display =\n",
              "          google.colab.kernel.accessAllowed ? 'block' : 'none';\n",
              "\n",
              "        async function convertToInteractive(key) {\n",
              "          const element = document.querySelector('#df-549d04bc-8c98-4619-bfad-2b57cc420d16');\n",
              "          const dataTable =\n",
              "            await google.colab.kernel.invokeFunction('convertToInteractive',\n",
              "                                                     [key], {});\n",
              "          if (!dataTable) return;\n",
              "\n",
              "          const docLinkHtml = 'Like what you see? Visit the ' +\n",
              "            '<a target=\"_blank\" href=https://colab.research.google.com/notebooks/data_table.ipynb>data table notebook</a>'\n",
              "            + ' to learn more about interactive tables.';\n",
              "          element.innerHTML = '';\n",
              "          dataTable['output_type'] = 'display_data';\n",
              "          await google.colab.output.renderOutput(dataTable, element);\n",
              "          const docLink = document.createElement('div');\n",
              "          docLink.innerHTML = docLinkHtml;\n",
              "          element.appendChild(docLink);\n",
              "        }\n",
              "      </script>\n",
              "    </div>\n",
              "  </div>\n",
              "  "
            ]
          },
          "metadata": {},
          "execution_count": 15
        }
      ],
      "source": [
        "math = pd.read_csv('/content/drive/MyDrive/Dr Lathsamy-CS-FNS/Projects 2 7 23/student-mat (2).csv')\n",
        "math.head()"
      ]
    },
    {
      "cell_type": "code",
      "execution_count": 16,
      "metadata": {
        "colab": {
          "base_uri": "https://localhost:8080/"
        },
        "id": "7kVDwD_Fx4gN",
        "outputId": "a8e95e3b-e2b8-4e9b-915a-29dd1c80c301"
      },
      "outputs": [
        {
          "output_type": "stream",
          "name": "stdout",
          "text": [
            "(395, 34)\n"
          ]
        },
        {
          "output_type": "execute_result",
          "data": {
            "text/plain": [
              "array(['school', 'sex', 'age', 'address', 'famsize', 'Pstatus', 'Medu',\n",
              "       'Fedu', 'Mjob', 'Fjob', 'reason', 'guardian', 'traveltime',\n",
              "       'studytime', 'failures', 'schoolsup', 'famsup', 'paid',\n",
              "       'activities', 'nursery', 'higher', 'internet', 'romantic',\n",
              "       'famrel', 'freetime', 'goout', 'Dalc', 'Walc', 'health',\n",
              "       'absences', 'G1', 'G2', 'G3', 'target'], dtype=object)"
            ]
          },
          "metadata": {},
          "execution_count": 16
        }
      ],
      "source": [
        "print(math.shape)\n",
        "math.columns.values"
      ]
    },
    {
      "cell_type": "markdown",
      "metadata": {
        "id": "vzKtXILqx4gO"
      },
      "source": [
        "The dataset contains 395 observations. The numeric target feature \"G3\" has been renamed as \"target\" and transformed into a binary categorical feature with two levels \"pass\" and \"fail\"."
      ]
    },
    {
      "cell_type": "markdown",
      "metadata": {
        "id": "5lqW3RSxx4gP"
      },
      "source": [
        "## Checking for Missing Values"
      ]
    },
    {
      "cell_type": "code",
      "execution_count": 17,
      "metadata": {
        "colab": {
          "base_uri": "https://localhost:8080/"
        },
        "id": "KtcFRiXUx4gP",
        "outputId": "3c01fba3-ffeb-4395-8cbb-f2eed8b048eb"
      },
      "outputs": [
        {
          "output_type": "execute_result",
          "data": {
            "text/plain": [
              "school        0\n",
              "sex           0\n",
              "age           0\n",
              "address       0\n",
              "famsize       0\n",
              "Pstatus       0\n",
              "Medu          0\n",
              "Fedu          0\n",
              "Mjob          0\n",
              "Fjob          0\n",
              "reason        0\n",
              "guardian      0\n",
              "traveltime    0\n",
              "studytime     0\n",
              "failures      0\n",
              "schoolsup     0\n",
              "famsup        0\n",
              "paid          0\n",
              "activities    0\n",
              "nursery       0\n",
              "higher        0\n",
              "internet      0\n",
              "romantic      0\n",
              "famrel        0\n",
              "freetime      0\n",
              "goout         0\n",
              "Dalc          0\n",
              "Walc          0\n",
              "health        0\n",
              "absences      0\n",
              "G1            0\n",
              "G2            0\n",
              "G3            0\n",
              "target        0\n",
              "dtype: int64"
            ]
          },
          "metadata": {},
          "execution_count": 17
        }
      ],
      "source": [
        "math.isna().sum()"
      ]
    },
    {
      "cell_type": "markdown",
      "metadata": {
        "id": "wjgIH8Hpx4gQ"
      },
      "source": [
        "## Summary Statistics"
      ]
    },
    {
      "cell_type": "code",
      "execution_count": 18,
      "metadata": {
        "colab": {
          "base_uri": "https://localhost:8080/",
          "height": 488
        },
        "id": "8bA85dhox4gR",
        "outputId": "0858b5ba-6d5c-45cc-8493-8c6df3c4375d"
      },
      "outputs": [
        {
          "output_type": "execute_result",
          "data": {
            "text/plain": [
              "       school  sex         age address famsize Pstatus        Medu  \\\n",
              "count     395  395  395.000000     395     395     395  395.000000   \n",
              "unique      2    2         NaN       2       2       2         NaN   \n",
              "top        GP    F         NaN       U     GT3       T         NaN   \n",
              "freq      349  208         NaN     307     281     354         NaN   \n",
              "mean      NaN  NaN   16.696203     NaN     NaN     NaN    2.749367   \n",
              "std       NaN  NaN    1.276043     NaN     NaN     NaN    1.094735   \n",
              "min       NaN  NaN   15.000000     NaN     NaN     NaN    0.000000   \n",
              "25%       NaN  NaN   16.000000     NaN     NaN     NaN    2.000000   \n",
              "50%       NaN  NaN   17.000000     NaN     NaN     NaN    3.000000   \n",
              "75%       NaN  NaN   18.000000     NaN     NaN     NaN    4.000000   \n",
              "max       NaN  NaN   22.000000     NaN     NaN     NaN    4.000000   \n",
              "\n",
              "              Fedu   Mjob   Fjob  ...    freetime       goout        Dalc  \\\n",
              "count   395.000000    395    395  ...  395.000000  395.000000  395.000000   \n",
              "unique         NaN      5      5  ...         NaN         NaN         NaN   \n",
              "top            NaN  other  other  ...         NaN         NaN         NaN   \n",
              "freq           NaN    141    217  ...         NaN         NaN         NaN   \n",
              "mean      2.521519    NaN    NaN  ...    3.235443    3.108861    1.481013   \n",
              "std       1.088201    NaN    NaN  ...    0.998862    1.113278    0.890741   \n",
              "min       0.000000    NaN    NaN  ...    1.000000    1.000000    1.000000   \n",
              "25%       2.000000    NaN    NaN  ...    3.000000    2.000000    1.000000   \n",
              "50%       2.000000    NaN    NaN  ...    3.000000    3.000000    1.000000   \n",
              "75%       3.000000    NaN    NaN  ...    4.000000    4.000000    2.000000   \n",
              "max       4.000000    NaN    NaN  ...    5.000000    5.000000    5.000000   \n",
              "\n",
              "              Walc      health    absences          G1          G2  \\\n",
              "count   395.000000  395.000000  395.000000  395.000000  395.000000   \n",
              "unique         NaN         NaN         NaN         NaN         NaN   \n",
              "top            NaN         NaN         NaN         NaN         NaN   \n",
              "freq           NaN         NaN         NaN         NaN         NaN   \n",
              "mean      2.291139    3.554430    5.708861   10.908861   10.713924   \n",
              "std       1.287897    1.390303    8.003096    3.319195    3.761505   \n",
              "min       1.000000    1.000000    0.000000    3.000000    0.000000   \n",
              "25%       1.000000    3.000000    0.000000    8.000000    9.000000   \n",
              "50%       2.000000    4.000000    4.000000   11.000000   11.000000   \n",
              "75%       3.000000    5.000000    8.000000   13.000000   13.000000   \n",
              "max       5.000000    5.000000   75.000000   19.000000   19.000000   \n",
              "\n",
              "                G3 target  \n",
              "count   395.000000    395  \n",
              "unique         NaN      2  \n",
              "top            NaN   pass  \n",
              "freq           NaN    310  \n",
              "mean     10.415190    NaN  \n",
              "std       4.581443    NaN  \n",
              "min       0.000000    NaN  \n",
              "25%       8.000000    NaN  \n",
              "50%      11.000000    NaN  \n",
              "75%      14.000000    NaN  \n",
              "max      20.000000    NaN  \n",
              "\n",
              "[11 rows x 34 columns]"
            ],
            "text/html": [
              "\n",
              "  <div id=\"df-8cae4554-9f21-44ce-9997-d29aaf09fb08\">\n",
              "    <div class=\"colab-df-container\">\n",
              "      <div>\n",
              "<style scoped>\n",
              "    .dataframe tbody tr th:only-of-type {\n",
              "        vertical-align: middle;\n",
              "    }\n",
              "\n",
              "    .dataframe tbody tr th {\n",
              "        vertical-align: top;\n",
              "    }\n",
              "\n",
              "    .dataframe thead th {\n",
              "        text-align: right;\n",
              "    }\n",
              "</style>\n",
              "<table border=\"1\" class=\"dataframe\">\n",
              "  <thead>\n",
              "    <tr style=\"text-align: right;\">\n",
              "      <th></th>\n",
              "      <th>school</th>\n",
              "      <th>sex</th>\n",
              "      <th>age</th>\n",
              "      <th>address</th>\n",
              "      <th>famsize</th>\n",
              "      <th>Pstatus</th>\n",
              "      <th>Medu</th>\n",
              "      <th>Fedu</th>\n",
              "      <th>Mjob</th>\n",
              "      <th>Fjob</th>\n",
              "      <th>...</th>\n",
              "      <th>freetime</th>\n",
              "      <th>goout</th>\n",
              "      <th>Dalc</th>\n",
              "      <th>Walc</th>\n",
              "      <th>health</th>\n",
              "      <th>absences</th>\n",
              "      <th>G1</th>\n",
              "      <th>G2</th>\n",
              "      <th>G3</th>\n",
              "      <th>target</th>\n",
              "    </tr>\n",
              "  </thead>\n",
              "  <tbody>\n",
              "    <tr>\n",
              "      <th>count</th>\n",
              "      <td>395</td>\n",
              "      <td>395</td>\n",
              "      <td>395.000000</td>\n",
              "      <td>395</td>\n",
              "      <td>395</td>\n",
              "      <td>395</td>\n",
              "      <td>395.000000</td>\n",
              "      <td>395.000000</td>\n",
              "      <td>395</td>\n",
              "      <td>395</td>\n",
              "      <td>...</td>\n",
              "      <td>395.000000</td>\n",
              "      <td>395.000000</td>\n",
              "      <td>395.000000</td>\n",
              "      <td>395.000000</td>\n",
              "      <td>395.000000</td>\n",
              "      <td>395.000000</td>\n",
              "      <td>395.000000</td>\n",
              "      <td>395.000000</td>\n",
              "      <td>395.000000</td>\n",
              "      <td>395</td>\n",
              "    </tr>\n",
              "    <tr>\n",
              "      <th>unique</th>\n",
              "      <td>2</td>\n",
              "      <td>2</td>\n",
              "      <td>NaN</td>\n",
              "      <td>2</td>\n",
              "      <td>2</td>\n",
              "      <td>2</td>\n",
              "      <td>NaN</td>\n",
              "      <td>NaN</td>\n",
              "      <td>5</td>\n",
              "      <td>5</td>\n",
              "      <td>...</td>\n",
              "      <td>NaN</td>\n",
              "      <td>NaN</td>\n",
              "      <td>NaN</td>\n",
              "      <td>NaN</td>\n",
              "      <td>NaN</td>\n",
              "      <td>NaN</td>\n",
              "      <td>NaN</td>\n",
              "      <td>NaN</td>\n",
              "      <td>NaN</td>\n",
              "      <td>2</td>\n",
              "    </tr>\n",
              "    <tr>\n",
              "      <th>top</th>\n",
              "      <td>GP</td>\n",
              "      <td>F</td>\n",
              "      <td>NaN</td>\n",
              "      <td>U</td>\n",
              "      <td>GT3</td>\n",
              "      <td>T</td>\n",
              "      <td>NaN</td>\n",
              "      <td>NaN</td>\n",
              "      <td>other</td>\n",
              "      <td>other</td>\n",
              "      <td>...</td>\n",
              "      <td>NaN</td>\n",
              "      <td>NaN</td>\n",
              "      <td>NaN</td>\n",
              "      <td>NaN</td>\n",
              "      <td>NaN</td>\n",
              "      <td>NaN</td>\n",
              "      <td>NaN</td>\n",
              "      <td>NaN</td>\n",
              "      <td>NaN</td>\n",
              "      <td>pass</td>\n",
              "    </tr>\n",
              "    <tr>\n",
              "      <th>freq</th>\n",
              "      <td>349</td>\n",
              "      <td>208</td>\n",
              "      <td>NaN</td>\n",
              "      <td>307</td>\n",
              "      <td>281</td>\n",
              "      <td>354</td>\n",
              "      <td>NaN</td>\n",
              "      <td>NaN</td>\n",
              "      <td>141</td>\n",
              "      <td>217</td>\n",
              "      <td>...</td>\n",
              "      <td>NaN</td>\n",
              "      <td>NaN</td>\n",
              "      <td>NaN</td>\n",
              "      <td>NaN</td>\n",
              "      <td>NaN</td>\n",
              "      <td>NaN</td>\n",
              "      <td>NaN</td>\n",
              "      <td>NaN</td>\n",
              "      <td>NaN</td>\n",
              "      <td>310</td>\n",
              "    </tr>\n",
              "    <tr>\n",
              "      <th>mean</th>\n",
              "      <td>NaN</td>\n",
              "      <td>NaN</td>\n",
              "      <td>16.696203</td>\n",
              "      <td>NaN</td>\n",
              "      <td>NaN</td>\n",
              "      <td>NaN</td>\n",
              "      <td>2.749367</td>\n",
              "      <td>2.521519</td>\n",
              "      <td>NaN</td>\n",
              "      <td>NaN</td>\n",
              "      <td>...</td>\n",
              "      <td>3.235443</td>\n",
              "      <td>3.108861</td>\n",
              "      <td>1.481013</td>\n",
              "      <td>2.291139</td>\n",
              "      <td>3.554430</td>\n",
              "      <td>5.708861</td>\n",
              "      <td>10.908861</td>\n",
              "      <td>10.713924</td>\n",
              "      <td>10.415190</td>\n",
              "      <td>NaN</td>\n",
              "    </tr>\n",
              "    <tr>\n",
              "      <th>std</th>\n",
              "      <td>NaN</td>\n",
              "      <td>NaN</td>\n",
              "      <td>1.276043</td>\n",
              "      <td>NaN</td>\n",
              "      <td>NaN</td>\n",
              "      <td>NaN</td>\n",
              "      <td>1.094735</td>\n",
              "      <td>1.088201</td>\n",
              "      <td>NaN</td>\n",
              "      <td>NaN</td>\n",
              "      <td>...</td>\n",
              "      <td>0.998862</td>\n",
              "      <td>1.113278</td>\n",
              "      <td>0.890741</td>\n",
              "      <td>1.287897</td>\n",
              "      <td>1.390303</td>\n",
              "      <td>8.003096</td>\n",
              "      <td>3.319195</td>\n",
              "      <td>3.761505</td>\n",
              "      <td>4.581443</td>\n",
              "      <td>NaN</td>\n",
              "    </tr>\n",
              "    <tr>\n",
              "      <th>min</th>\n",
              "      <td>NaN</td>\n",
              "      <td>NaN</td>\n",
              "      <td>15.000000</td>\n",
              "      <td>NaN</td>\n",
              "      <td>NaN</td>\n",
              "      <td>NaN</td>\n",
              "      <td>0.000000</td>\n",
              "      <td>0.000000</td>\n",
              "      <td>NaN</td>\n",
              "      <td>NaN</td>\n",
              "      <td>...</td>\n",
              "      <td>1.000000</td>\n",
              "      <td>1.000000</td>\n",
              "      <td>1.000000</td>\n",
              "      <td>1.000000</td>\n",
              "      <td>1.000000</td>\n",
              "      <td>0.000000</td>\n",
              "      <td>3.000000</td>\n",
              "      <td>0.000000</td>\n",
              "      <td>0.000000</td>\n",
              "      <td>NaN</td>\n",
              "    </tr>\n",
              "    <tr>\n",
              "      <th>25%</th>\n",
              "      <td>NaN</td>\n",
              "      <td>NaN</td>\n",
              "      <td>16.000000</td>\n",
              "      <td>NaN</td>\n",
              "      <td>NaN</td>\n",
              "      <td>NaN</td>\n",
              "      <td>2.000000</td>\n",
              "      <td>2.000000</td>\n",
              "      <td>NaN</td>\n",
              "      <td>NaN</td>\n",
              "      <td>...</td>\n",
              "      <td>3.000000</td>\n",
              "      <td>2.000000</td>\n",
              "      <td>1.000000</td>\n",
              "      <td>1.000000</td>\n",
              "      <td>3.000000</td>\n",
              "      <td>0.000000</td>\n",
              "      <td>8.000000</td>\n",
              "      <td>9.000000</td>\n",
              "      <td>8.000000</td>\n",
              "      <td>NaN</td>\n",
              "    </tr>\n",
              "    <tr>\n",
              "      <th>50%</th>\n",
              "      <td>NaN</td>\n",
              "      <td>NaN</td>\n",
              "      <td>17.000000</td>\n",
              "      <td>NaN</td>\n",
              "      <td>NaN</td>\n",
              "      <td>NaN</td>\n",
              "      <td>3.000000</td>\n",
              "      <td>2.000000</td>\n",
              "      <td>NaN</td>\n",
              "      <td>NaN</td>\n",
              "      <td>...</td>\n",
              "      <td>3.000000</td>\n",
              "      <td>3.000000</td>\n",
              "      <td>1.000000</td>\n",
              "      <td>2.000000</td>\n",
              "      <td>4.000000</td>\n",
              "      <td>4.000000</td>\n",
              "      <td>11.000000</td>\n",
              "      <td>11.000000</td>\n",
              "      <td>11.000000</td>\n",
              "      <td>NaN</td>\n",
              "    </tr>\n",
              "    <tr>\n",
              "      <th>75%</th>\n",
              "      <td>NaN</td>\n",
              "      <td>NaN</td>\n",
              "      <td>18.000000</td>\n",
              "      <td>NaN</td>\n",
              "      <td>NaN</td>\n",
              "      <td>NaN</td>\n",
              "      <td>4.000000</td>\n",
              "      <td>3.000000</td>\n",
              "      <td>NaN</td>\n",
              "      <td>NaN</td>\n",
              "      <td>...</td>\n",
              "      <td>4.000000</td>\n",
              "      <td>4.000000</td>\n",
              "      <td>2.000000</td>\n",
              "      <td>3.000000</td>\n",
              "      <td>5.000000</td>\n",
              "      <td>8.000000</td>\n",
              "      <td>13.000000</td>\n",
              "      <td>13.000000</td>\n",
              "      <td>14.000000</td>\n",
              "      <td>NaN</td>\n",
              "    </tr>\n",
              "    <tr>\n",
              "      <th>max</th>\n",
              "      <td>NaN</td>\n",
              "      <td>NaN</td>\n",
              "      <td>22.000000</td>\n",
              "      <td>NaN</td>\n",
              "      <td>NaN</td>\n",
              "      <td>NaN</td>\n",
              "      <td>4.000000</td>\n",
              "      <td>4.000000</td>\n",
              "      <td>NaN</td>\n",
              "      <td>NaN</td>\n",
              "      <td>...</td>\n",
              "      <td>5.000000</td>\n",
              "      <td>5.000000</td>\n",
              "      <td>5.000000</td>\n",
              "      <td>5.000000</td>\n",
              "      <td>5.000000</td>\n",
              "      <td>75.000000</td>\n",
              "      <td>19.000000</td>\n",
              "      <td>19.000000</td>\n",
              "      <td>20.000000</td>\n",
              "      <td>NaN</td>\n",
              "    </tr>\n",
              "  </tbody>\n",
              "</table>\n",
              "<p>11 rows × 34 columns</p>\n",
              "</div>\n",
              "      <button class=\"colab-df-convert\" onclick=\"convertToInteractive('df-8cae4554-9f21-44ce-9997-d29aaf09fb08')\"\n",
              "              title=\"Convert this dataframe to an interactive table.\"\n",
              "              style=\"display:none;\">\n",
              "        \n",
              "  <svg xmlns=\"http://www.w3.org/2000/svg\" height=\"24px\"viewBox=\"0 0 24 24\"\n",
              "       width=\"24px\">\n",
              "    <path d=\"M0 0h24v24H0V0z\" fill=\"none\"/>\n",
              "    <path d=\"M18.56 5.44l.94 2.06.94-2.06 2.06-.94-2.06-.94-.94-2.06-.94 2.06-2.06.94zm-11 1L8.5 8.5l.94-2.06 2.06-.94-2.06-.94L8.5 2.5l-.94 2.06-2.06.94zm10 10l.94 2.06.94-2.06 2.06-.94-2.06-.94-.94-2.06-.94 2.06-2.06.94z\"/><path d=\"M17.41 7.96l-1.37-1.37c-.4-.4-.92-.59-1.43-.59-.52 0-1.04.2-1.43.59L10.3 9.45l-7.72 7.72c-.78.78-.78 2.05 0 2.83L4 21.41c.39.39.9.59 1.41.59.51 0 1.02-.2 1.41-.59l7.78-7.78 2.81-2.81c.8-.78.8-2.07 0-2.86zM5.41 20L4 18.59l7.72-7.72 1.47 1.35L5.41 20z\"/>\n",
              "  </svg>\n",
              "      </button>\n",
              "      \n",
              "  <style>\n",
              "    .colab-df-container {\n",
              "      display:flex;\n",
              "      flex-wrap:wrap;\n",
              "      gap: 12px;\n",
              "    }\n",
              "\n",
              "    .colab-df-convert {\n",
              "      background-color: #E8F0FE;\n",
              "      border: none;\n",
              "      border-radius: 50%;\n",
              "      cursor: pointer;\n",
              "      display: none;\n",
              "      fill: #1967D2;\n",
              "      height: 32px;\n",
              "      padding: 0 0 0 0;\n",
              "      width: 32px;\n",
              "    }\n",
              "\n",
              "    .colab-df-convert:hover {\n",
              "      background-color: #E2EBFA;\n",
              "      box-shadow: 0px 1px 2px rgba(60, 64, 67, 0.3), 0px 1px 3px 1px rgba(60, 64, 67, 0.15);\n",
              "      fill: #174EA6;\n",
              "    }\n",
              "\n",
              "    [theme=dark] .colab-df-convert {\n",
              "      background-color: #3B4455;\n",
              "      fill: #D2E3FC;\n",
              "    }\n",
              "\n",
              "    [theme=dark] .colab-df-convert:hover {\n",
              "      background-color: #434B5C;\n",
              "      box-shadow: 0px 1px 3px 1px rgba(0, 0, 0, 0.15);\n",
              "      filter: drop-shadow(0px 1px 2px rgba(0, 0, 0, 0.3));\n",
              "      fill: #FFFFFF;\n",
              "    }\n",
              "  </style>\n",
              "\n",
              "      <script>\n",
              "        const buttonEl =\n",
              "          document.querySelector('#df-8cae4554-9f21-44ce-9997-d29aaf09fb08 button.colab-df-convert');\n",
              "        buttonEl.style.display =\n",
              "          google.colab.kernel.accessAllowed ? 'block' : 'none';\n",
              "\n",
              "        async function convertToInteractive(key) {\n",
              "          const element = document.querySelector('#df-8cae4554-9f21-44ce-9997-d29aaf09fb08');\n",
              "          const dataTable =\n",
              "            await google.colab.kernel.invokeFunction('convertToInteractive',\n",
              "                                                     [key], {});\n",
              "          if (!dataTable) return;\n",
              "\n",
              "          const docLinkHtml = 'Like what you see? Visit the ' +\n",
              "            '<a target=\"_blank\" href=https://colab.research.google.com/notebooks/data_table.ipynb>data table notebook</a>'\n",
              "            + ' to learn more about interactive tables.';\n",
              "          element.innerHTML = '';\n",
              "          dataTable['output_type'] = 'display_data';\n",
              "          await google.colab.output.renderOutput(dataTable, element);\n",
              "          const docLink = document.createElement('div');\n",
              "          docLink.innerHTML = docLinkHtml;\n",
              "          element.appendChild(docLink);\n",
              "        }\n",
              "      </script>\n",
              "    </div>\n",
              "  </div>\n",
              "  "
            ]
          },
          "metadata": {},
          "execution_count": 18
        }
      ],
      "source": [
        "math.describe(include='all')"
      ]
    },
    {
      "cell_type": "markdown",
      "metadata": {
        "id": "L90yNBvsx4gS"
      },
      "source": [
        "## Encoding Categorical Features\n",
        "\n",
        "It is necessary to encode all categorical features into numerical features, since Scikit-learn requires all data to be numeric before putting them into the algorithm.\n",
        "\n",
        "Before encoding the target feature, the descriptive features and the target feature need to be partitioned."
      ]
    },
    {
      "cell_type": "code",
      "execution_count": 19,
      "metadata": {
        "id": "_zFli1Prx4gS"
      },
      "outputs": [],
      "source": [
        "data = math.drop(columns ='target')\n",
        "target = math['target']"
      ]
    },
    {
      "cell_type": "markdown",
      "metadata": {
        "id": "CpBZDZrFx4gT"
      },
      "source": [
        "### Target Feature\n",
        "\n",
        "It is obvious that the target classes are imbalanced. The number of \"pass\" is twice as many as that of \"fail\".\n",
        "\n",
        "The positive target feature level \"pass\" is encoded as \"1\"."
      ]
    },
    {
      "cell_type": "code",
      "execution_count": 20,
      "metadata": {
        "colab": {
          "base_uri": "https://localhost:8080/"
        },
        "id": "Skt2okX6x4gT",
        "outputId": "37bcc795-14bf-413c-a1d4-07c0fe14e4b7"
      },
      "outputs": [
        {
          "output_type": "stream",
          "name": "stdout",
          "text": [
            "pass    310\n",
            "fail     85\n",
            "Name: target, dtype: int64\n"
          ]
        },
        {
          "output_type": "execute_result",
          "data": {
            "text/plain": [
              "1    310\n",
              "0     85\n",
              "Name: target, dtype: int64"
            ]
          },
          "metadata": {},
          "execution_count": 20
        }
      ],
      "source": [
        "print(target.value_counts())\n",
        "target = target.replace({'pass':1,'fail':0})\n",
        "target.value_counts()"
      ]
    },
    {
      "cell_type": "markdown",
      "metadata": {
        "id": "IjJSZf41x4gU"
      },
      "source": [
        "### Categorical Descriptive Features\n",
        "\n",
        "There are two types of categorical descriptive features in the dataset.\n",
        "\n",
        "#### Nominal:\n",
        "\n",
        "13 out of the 17 nominal features have only two levels, therefore they are simply encoded into a single column of 0 and 1. The remaining 4 features have more than two levels, therefore applying one-hot-encoding is necessary as it can create a binary column for each unique value under these multi-level nominal features.\n",
        "\n",
        "1. sex: binary - female or male)\n",
        "2. school: binary - Gabriel Pereira or Mousinho da Silveira\n",
        "3. address: binary - urban or rural\n",
        "4. Pstatus: binary - living together or apart\n",
        "5. Mjob: 5 levels\n",
        "6. Fjob: 5 levels\n",
        "7. guardian: 3 levels\n",
        "8. famsize: binary - ≤ 3 or > 3\n",
        "9. reason: 4 levels\n",
        "10. schoolsup: binary - yes or no\n",
        "11.\tfamsup: binary - yes or no\n",
        "12.\tactivities: binary - yes or no\n",
        "13.\tpaidclass: binary - yes or no\n",
        "14.\tinternet: binary - yes or no\n",
        "15.\tnursey: binary - yes or no\n",
        "16.\thigher: binary - yes or no\n",
        "17.\tromantic: binary - yes or no"
      ]
    },
    {
      "cell_type": "code",
      "execution_count": 21,
      "metadata": {
        "colab": {
          "base_uri": "https://localhost:8080/"
        },
        "id": "BTbvaaslx4gV",
        "outputId": "8a7c2560-19ef-4683-a497-736e34da52c1"
      },
      "outputs": [
        {
          "output_type": "execute_result",
          "data": {
            "text/plain": [
              "['school',\n",
              " 'sex',\n",
              " 'address',\n",
              " 'famsize',\n",
              " 'Pstatus',\n",
              " 'Mjob',\n",
              " 'Fjob',\n",
              " 'reason',\n",
              " 'guardian',\n",
              " 'schoolsup',\n",
              " 'famsup',\n",
              " 'paid',\n",
              " 'activities',\n",
              " 'nursery',\n",
              " 'higher',\n",
              " 'internet',\n",
              " 'romantic']"
            ]
          },
          "metadata": {},
          "execution_count": 21
        }
      ],
      "source": [
        "nominal_cols = data.columns[data.dtypes==object].tolist()\n",
        "nominal_cols"
      ]
    },
    {
      "cell_type": "markdown",
      "metadata": {
        "id": "2IpH8FiBx4gW"
      },
      "source": [
        "Ordinal:\n",
        "The ordinal categorical features have been encoded into numbers in the original dataset and therefore there is no need to further transform them. The numbers under each ordinal categorical feature are meaningful. For example, under the feature \"Medu\" (mother's education level), 0 is \"none\"; 1 is \"primary education\"; 2 is \"5th to 9th grade\"; 3 is \"secondary education\"; 4 is \"higher education\". The larger the number, the higher the education level.\n",
        "\n",
        "1. Medu: 0 to 4; the larger the number, the higher the education level\n",
        "2. Fedu: 0 to 4; the larger the number, the higher the education level\n",
        "3. famrel: 1 to 5; the larger the number, the higher the quality of family relationship\n",
        "4. traveltime: 1 to 4; the larger the number, the longer the travel time to school\n",
        "5. studytime: 1 to 4; the larger the number, the longer the weekly study time\n",
        "6. freetime: 1 to 5; the larger the number, the more free time after school\n",
        "7. goout: 1 to 5; the larger the number, the more frequent going out with friends\n",
        "8. Walc: 1 to 5; the larger the number, the more weekend alcohol consumption\n",
        "9. Dalc: 1 to 5; the larger the number, the more workday alcohol consumption\n",
        "10. health: 1 to 5; the larger the number, the healthier"
      ]
    },
    {
      "cell_type": "code",
      "execution_count": 22,
      "metadata": {
        "id": "SPC6KzxNx4gW"
      },
      "outputs": [],
      "source": [
        "for col in nominal_cols:\n",
        "    n = len(data[col].unique())\n",
        "    if (n == 2):\n",
        "        data[col] = pd.get_dummies(data[col], drop_first=True)"
      ]
    },
    {
      "cell_type": "code",
      "execution_count": 26,
      "metadata": {
        "id": "r-TlgU1Xx4gX"
      },
      "outputs": [],
      "source": [
        "data = pd.get_dummies(data)\n",
        "data = pd.get_dummies(data)"
      ]
    },
    {
      "cell_type": "markdown",
      "metadata": {
        "id": "tYbBnJcdx4gX"
      },
      "source": [
        "After performing one-hot-enconding on those 4 nominal features, the number of columns with descriptive features in the dataset extend from 32 to 45."
      ]
    },
    {
      "cell_type": "markdown",
      "metadata": {
        "id": "MbfVSb8-x4gY"
      },
      "source": [
        "## Feature Scaling\n",
        "\n",
        "Scaling descriptive features is beneficial as it can normalise the numeric values among different variables within a specific range and can help speed up the processing time in the algorithm.\n",
        "Min-Max Scaling is applied to scale the descriptive features between 0 and 1. Each binary feature can be still kept as binary after scaling."
      ]
    },
    {
      "cell_type": "code",
      "execution_count": 27,
      "metadata": {
        "id": "cjWHE5D5x4gY"
      },
      "outputs": [],
      "source": [
        "from sklearn import preprocessing\n",
        "data_unscaled=data.values\n",
        "data_scaled = preprocessing.MinMaxScaler().fit_transform(data_unscaled)"
      ]
    },
    {
      "cell_type": "code",
      "execution_count": 28,
      "metadata": {
        "colab": {
          "base_uri": "https://localhost:8080/",
          "height": 300
        },
        "id": "s6MPIxT6x4gZ",
        "outputId": "987c931b-989a-4803-b159-f0c4b3b78e96"
      },
      "outputs": [
        {
          "output_type": "execute_result",
          "data": {
            "text/plain": [
              "   school  sex       age  address  famsize  Pstatus  Medu  Fedu  traveltime  \\\n",
              "0     0.0  0.0  0.428571      1.0      0.0      0.0  1.00  1.00    0.333333   \n",
              "1     0.0  0.0  0.285714      1.0      0.0      1.0  0.25  0.25    0.000000   \n",
              "2     0.0  0.0  0.000000      1.0      1.0      1.0  0.25  0.25    0.000000   \n",
              "3     0.0  0.0  0.000000      1.0      0.0      1.0  1.00  0.50    0.000000   \n",
              "4     0.0  0.0  0.142857      1.0      0.0      1.0  0.75  0.75    0.000000   \n",
              "\n",
              "   studytime  ...  Fjob_other  Fjob_services  Fjob_teacher  reason_course  \\\n",
              "0   0.333333  ...         0.0            0.0           1.0            1.0   \n",
              "1   0.333333  ...         1.0            0.0           0.0            1.0   \n",
              "2   0.333333  ...         1.0            0.0           0.0            0.0   \n",
              "3   0.666667  ...         0.0            1.0           0.0            0.0   \n",
              "4   0.333333  ...         1.0            0.0           0.0            0.0   \n",
              "\n",
              "   reason_home  reason_other  reason_reputation  guardian_father  \\\n",
              "0          0.0           0.0                0.0              0.0   \n",
              "1          0.0           0.0                0.0              1.0   \n",
              "2          0.0           1.0                0.0              0.0   \n",
              "3          1.0           0.0                0.0              0.0   \n",
              "4          1.0           0.0                0.0              1.0   \n",
              "\n",
              "   guardian_mother  guardian_other  \n",
              "0              1.0             0.0  \n",
              "1              0.0             0.0  \n",
              "2              1.0             0.0  \n",
              "3              1.0             0.0  \n",
              "4              0.0             0.0  \n",
              "\n",
              "[5 rows x 46 columns]"
            ],
            "text/html": [
              "\n",
              "  <div id=\"df-f2d5dd76-0342-4958-8c97-2fcff6c0882d\">\n",
              "    <div class=\"colab-df-container\">\n",
              "      <div>\n",
              "<style scoped>\n",
              "    .dataframe tbody tr th:only-of-type {\n",
              "        vertical-align: middle;\n",
              "    }\n",
              "\n",
              "    .dataframe tbody tr th {\n",
              "        vertical-align: top;\n",
              "    }\n",
              "\n",
              "    .dataframe thead th {\n",
              "        text-align: right;\n",
              "    }\n",
              "</style>\n",
              "<table border=\"1\" class=\"dataframe\">\n",
              "  <thead>\n",
              "    <tr style=\"text-align: right;\">\n",
              "      <th></th>\n",
              "      <th>school</th>\n",
              "      <th>sex</th>\n",
              "      <th>age</th>\n",
              "      <th>address</th>\n",
              "      <th>famsize</th>\n",
              "      <th>Pstatus</th>\n",
              "      <th>Medu</th>\n",
              "      <th>Fedu</th>\n",
              "      <th>traveltime</th>\n",
              "      <th>studytime</th>\n",
              "      <th>...</th>\n",
              "      <th>Fjob_other</th>\n",
              "      <th>Fjob_services</th>\n",
              "      <th>Fjob_teacher</th>\n",
              "      <th>reason_course</th>\n",
              "      <th>reason_home</th>\n",
              "      <th>reason_other</th>\n",
              "      <th>reason_reputation</th>\n",
              "      <th>guardian_father</th>\n",
              "      <th>guardian_mother</th>\n",
              "      <th>guardian_other</th>\n",
              "    </tr>\n",
              "  </thead>\n",
              "  <tbody>\n",
              "    <tr>\n",
              "      <th>0</th>\n",
              "      <td>0.0</td>\n",
              "      <td>0.0</td>\n",
              "      <td>0.428571</td>\n",
              "      <td>1.0</td>\n",
              "      <td>0.0</td>\n",
              "      <td>0.0</td>\n",
              "      <td>1.00</td>\n",
              "      <td>1.00</td>\n",
              "      <td>0.333333</td>\n",
              "      <td>0.333333</td>\n",
              "      <td>...</td>\n",
              "      <td>0.0</td>\n",
              "      <td>0.0</td>\n",
              "      <td>1.0</td>\n",
              "      <td>1.0</td>\n",
              "      <td>0.0</td>\n",
              "      <td>0.0</td>\n",
              "      <td>0.0</td>\n",
              "      <td>0.0</td>\n",
              "      <td>1.0</td>\n",
              "      <td>0.0</td>\n",
              "    </tr>\n",
              "    <tr>\n",
              "      <th>1</th>\n",
              "      <td>0.0</td>\n",
              "      <td>0.0</td>\n",
              "      <td>0.285714</td>\n",
              "      <td>1.0</td>\n",
              "      <td>0.0</td>\n",
              "      <td>1.0</td>\n",
              "      <td>0.25</td>\n",
              "      <td>0.25</td>\n",
              "      <td>0.000000</td>\n",
              "      <td>0.333333</td>\n",
              "      <td>...</td>\n",
              "      <td>1.0</td>\n",
              "      <td>0.0</td>\n",
              "      <td>0.0</td>\n",
              "      <td>1.0</td>\n",
              "      <td>0.0</td>\n",
              "      <td>0.0</td>\n",
              "      <td>0.0</td>\n",
              "      <td>1.0</td>\n",
              "      <td>0.0</td>\n",
              "      <td>0.0</td>\n",
              "    </tr>\n",
              "    <tr>\n",
              "      <th>2</th>\n",
              "      <td>0.0</td>\n",
              "      <td>0.0</td>\n",
              "      <td>0.000000</td>\n",
              "      <td>1.0</td>\n",
              "      <td>1.0</td>\n",
              "      <td>1.0</td>\n",
              "      <td>0.25</td>\n",
              "      <td>0.25</td>\n",
              "      <td>0.000000</td>\n",
              "      <td>0.333333</td>\n",
              "      <td>...</td>\n",
              "      <td>1.0</td>\n",
              "      <td>0.0</td>\n",
              "      <td>0.0</td>\n",
              "      <td>0.0</td>\n",
              "      <td>0.0</td>\n",
              "      <td>1.0</td>\n",
              "      <td>0.0</td>\n",
              "      <td>0.0</td>\n",
              "      <td>1.0</td>\n",
              "      <td>0.0</td>\n",
              "    </tr>\n",
              "    <tr>\n",
              "      <th>3</th>\n",
              "      <td>0.0</td>\n",
              "      <td>0.0</td>\n",
              "      <td>0.000000</td>\n",
              "      <td>1.0</td>\n",
              "      <td>0.0</td>\n",
              "      <td>1.0</td>\n",
              "      <td>1.00</td>\n",
              "      <td>0.50</td>\n",
              "      <td>0.000000</td>\n",
              "      <td>0.666667</td>\n",
              "      <td>...</td>\n",
              "      <td>0.0</td>\n",
              "      <td>1.0</td>\n",
              "      <td>0.0</td>\n",
              "      <td>0.0</td>\n",
              "      <td>1.0</td>\n",
              "      <td>0.0</td>\n",
              "      <td>0.0</td>\n",
              "      <td>0.0</td>\n",
              "      <td>1.0</td>\n",
              "      <td>0.0</td>\n",
              "    </tr>\n",
              "    <tr>\n",
              "      <th>4</th>\n",
              "      <td>0.0</td>\n",
              "      <td>0.0</td>\n",
              "      <td>0.142857</td>\n",
              "      <td>1.0</td>\n",
              "      <td>0.0</td>\n",
              "      <td>1.0</td>\n",
              "      <td>0.75</td>\n",
              "      <td>0.75</td>\n",
              "      <td>0.000000</td>\n",
              "      <td>0.333333</td>\n",
              "      <td>...</td>\n",
              "      <td>1.0</td>\n",
              "      <td>0.0</td>\n",
              "      <td>0.0</td>\n",
              "      <td>0.0</td>\n",
              "      <td>1.0</td>\n",
              "      <td>0.0</td>\n",
              "      <td>0.0</td>\n",
              "      <td>1.0</td>\n",
              "      <td>0.0</td>\n",
              "      <td>0.0</td>\n",
              "    </tr>\n",
              "  </tbody>\n",
              "</table>\n",
              "<p>5 rows × 46 columns</p>\n",
              "</div>\n",
              "      <button class=\"colab-df-convert\" onclick=\"convertToInteractive('df-f2d5dd76-0342-4958-8c97-2fcff6c0882d')\"\n",
              "              title=\"Convert this dataframe to an interactive table.\"\n",
              "              style=\"display:none;\">\n",
              "        \n",
              "  <svg xmlns=\"http://www.w3.org/2000/svg\" height=\"24px\"viewBox=\"0 0 24 24\"\n",
              "       width=\"24px\">\n",
              "    <path d=\"M0 0h24v24H0V0z\" fill=\"none\"/>\n",
              "    <path d=\"M18.56 5.44l.94 2.06.94-2.06 2.06-.94-2.06-.94-.94-2.06-.94 2.06-2.06.94zm-11 1L8.5 8.5l.94-2.06 2.06-.94-2.06-.94L8.5 2.5l-.94 2.06-2.06.94zm10 10l.94 2.06.94-2.06 2.06-.94-2.06-.94-.94-2.06-.94 2.06-2.06.94z\"/><path d=\"M17.41 7.96l-1.37-1.37c-.4-.4-.92-.59-1.43-.59-.52 0-1.04.2-1.43.59L10.3 9.45l-7.72 7.72c-.78.78-.78 2.05 0 2.83L4 21.41c.39.39.9.59 1.41.59.51 0 1.02-.2 1.41-.59l7.78-7.78 2.81-2.81c.8-.78.8-2.07 0-2.86zM5.41 20L4 18.59l7.72-7.72 1.47 1.35L5.41 20z\"/>\n",
              "  </svg>\n",
              "      </button>\n",
              "      \n",
              "  <style>\n",
              "    .colab-df-container {\n",
              "      display:flex;\n",
              "      flex-wrap:wrap;\n",
              "      gap: 12px;\n",
              "    }\n",
              "\n",
              "    .colab-df-convert {\n",
              "      background-color: #E8F0FE;\n",
              "      border: none;\n",
              "      border-radius: 50%;\n",
              "      cursor: pointer;\n",
              "      display: none;\n",
              "      fill: #1967D2;\n",
              "      height: 32px;\n",
              "      padding: 0 0 0 0;\n",
              "      width: 32px;\n",
              "    }\n",
              "\n",
              "    .colab-df-convert:hover {\n",
              "      background-color: #E2EBFA;\n",
              "      box-shadow: 0px 1px 2px rgba(60, 64, 67, 0.3), 0px 1px 3px 1px rgba(60, 64, 67, 0.15);\n",
              "      fill: #174EA6;\n",
              "    }\n",
              "\n",
              "    [theme=dark] .colab-df-convert {\n",
              "      background-color: #3B4455;\n",
              "      fill: #D2E3FC;\n",
              "    }\n",
              "\n",
              "    [theme=dark] .colab-df-convert:hover {\n",
              "      background-color: #434B5C;\n",
              "      box-shadow: 0px 1px 3px 1px rgba(0, 0, 0, 0.15);\n",
              "      filter: drop-shadow(0px 1px 2px rgba(0, 0, 0, 0.3));\n",
              "      fill: #FFFFFF;\n",
              "    }\n",
              "  </style>\n",
              "\n",
              "      <script>\n",
              "        const buttonEl =\n",
              "          document.querySelector('#df-f2d5dd76-0342-4958-8c97-2fcff6c0882d button.colab-df-convert');\n",
              "        buttonEl.style.display =\n",
              "          google.colab.kernel.accessAllowed ? 'block' : 'none';\n",
              "\n",
              "        async function convertToInteractive(key) {\n",
              "          const element = document.querySelector('#df-f2d5dd76-0342-4958-8c97-2fcff6c0882d');\n",
              "          const dataTable =\n",
              "            await google.colab.kernel.invokeFunction('convertToInteractive',\n",
              "                                                     [key], {});\n",
              "          if (!dataTable) return;\n",
              "\n",
              "          const docLinkHtml = 'Like what you see? Visit the ' +\n",
              "            '<a target=\"_blank\" href=https://colab.research.google.com/notebooks/data_table.ipynb>data table notebook</a>'\n",
              "            + ' to learn more about interactive tables.';\n",
              "          element.innerHTML = '';\n",
              "          dataTable['output_type'] = 'display_data';\n",
              "          await google.colab.output.renderOutput(dataTable, element);\n",
              "          const docLink = document.createElement('div');\n",
              "          docLink.innerHTML = docLinkHtml;\n",
              "          element.appendChild(docLink);\n",
              "        }\n",
              "      </script>\n",
              "    </div>\n",
              "  </div>\n",
              "  "
            ]
          },
          "metadata": {},
          "execution_count": 28
        }
      ],
      "source": [
        "pd.DataFrame(data_scaled, columns=data.columns).head()"
      ]
    },
    {
      "cell_type": "markdown",
      "metadata": {
        "id": "XAKsplO8x4gZ"
      },
      "source": [
        "## Feature Selection & Ranking\n",
        "\n",
        "The 1-nearest neighbor classifier is used as a wrapper to compare the performance of feature selection methods: F-Score and Random Forest Importance. I also use stratified 5-fold cross validation with 3 repetitions for assessment."
      ]
    },
    {
      "cell_type": "code",
      "execution_count": 29,
      "metadata": {
        "id": "jvO2uHA3x4ga"
      },
      "outputs": [],
      "source": [
        "from sklearn.model_selection import RepeatedStratifiedKFold\n",
        "from sklearn.neighbors import KNeighborsClassifier\n",
        "clf = KNeighborsClassifier(n_neighbors=1)\n",
        "cv_method = RepeatedStratifiedKFold(n_splits=5, n_repeats=3,random_state=999)"
      ]
    },
    {
      "cell_type": "markdown",
      "metadata": {
        "id": "K5LsbKCnx4ga"
      },
      "source": [
        "### Full Set of Features\n",
        "Before applying the feature selection methods, I assess the perfomance using all descriptive features in the dataset."
      ]
    },
    {
      "cell_type": "code",
      "execution_count": 30,
      "metadata": {
        "colab": {
          "base_uri": "https://localhost:8080/"
        },
        "id": "1K5xHNpDx4gb",
        "outputId": "0d98ac20-2916-41de-b3e1-e7389d6c0e6d"
      },
      "outputs": [
        {
          "output_type": "execute_result",
          "data": {
            "text/plain": [
              "0.6139152435167615"
            ]
          },
          "metadata": {},
          "execution_count": 30
        }
      ],
      "source": [
        "from sklearn.model_selection import cross_val_score\n",
        "cv_results_full = cross_val_score(estimator=clf,\n",
        "                             X=data_scaled,\n",
        "                             y=target,\n",
        "                             cv=cv_method,\n",
        "                             scoring='roc_auc')\n",
        "cv_results_full.mean()"
      ]
    },
    {
      "cell_type": "markdown",
      "metadata": {
        "id": "O8K6Bohbx4gc"
      },
      "source": [
        "The AUC score for the full features is very low, at 0.556. There are probably some irrelevant features in the dataset that weaken the performance of the model."
      ]
    },
    {
      "cell_type": "markdown",
      "metadata": {
        "id": "jXS2K_lyx4gc"
      },
      "source": [
        "### Random Forest Importance"
      ]
    },
    {
      "cell_type": "code",
      "execution_count": 31,
      "metadata": {
        "colab": {
          "base_uri": "https://localhost:8080/"
        },
        "id": "Bqlk4xYLx4gd",
        "outputId": "633ec474-17e8-4088-cc0b-49a85f6a5813"
      },
      "outputs": [
        {
          "output_type": "stream",
          "name": "stdout",
          "text": [
            "['G2' 'G3' 'G1' 'failures' 'absences' 'age' 'Medu' 'goout' 'health'\n",
            " 'freetime']\n",
            "[0.3093589  0.22688177 0.15650237 0.04836385 0.02774562 0.01557019\n",
            " 0.01383451 0.01260508 0.01187734 0.01167762]\n"
          ]
        }
      ],
      "source": [
        "from sklearn.ensemble import RandomForestClassifier\n",
        "np.random.seed(999)\n",
        "model_rfi = RandomForestClassifier(n_estimators=100)\n",
        "model_rfi.fit(data_scaled, target)\n",
        "fs_indices_rfi = np.argsort(model_rfi.feature_importances_)[::-1][0:10]\n",
        "\n",
        "best_features_rfi = data.columns[fs_indices_rfi].values\n",
        "print(best_features_rfi)\n",
        "\n",
        "feature_importances_rfi = model_rfi.feature_importances_[fs_indices_rfi]\n",
        "print(feature_importances_rfi)"
      ]
    },
    {
      "cell_type": "code",
      "execution_count": 32,
      "metadata": {
        "colab": {
          "base_uri": "https://localhost:8080/"
        },
        "id": "CD0Lp3Zcx4gg",
        "outputId": "791599e1-47b9-49f5-e245-0578d6cd2a3d"
      },
      "outputs": [
        {
          "output_type": "execute_result",
          "data": {
            "text/plain": [
              "0.8030676786843769"
            ]
          },
          "metadata": {},
          "execution_count": 32
        }
      ],
      "source": [
        "cv_results_rfi = cross_val_score(estimator=clf,\n",
        "                             X=data_scaled[:, fs_indices_rfi],\n",
        "                             y=target,\n",
        "                             cv=cv_method,\n",
        "                             scoring='roc_auc')\n",
        "cv_results_rfi.mean()"
      ]
    },
    {
      "cell_type": "markdown",
      "metadata": {
        "id": "_RrbctEQx4gi"
      },
      "source": [
        "The AUC score for the top 10 features selected by Random Forest Importance is 0.753."
      ]
    },
    {
      "cell_type": "markdown",
      "metadata": {
        "id": "XRoBRfZDx4gi"
      },
      "source": [
        "### F-Score"
      ]
    },
    {
      "cell_type": "code",
      "execution_count": 33,
      "metadata": {
        "colab": {
          "base_uri": "https://localhost:8080/"
        },
        "id": "noXUBkgex4gj",
        "outputId": "fbaeaff1-db86-4726-8ecf-bad9d8f06298"
      },
      "outputs": [
        {
          "output_type": "stream",
          "name": "stdout",
          "text": [
            "['G3' 'G2' 'G1' 'failures' 'higher' 'Medu' 'paid' 'Fedu' 'Mjob_teacher'\n",
            " 'studytime']\n",
            "[470.59742453 360.09980815 237.47390752  72.55640686  19.2795586\n",
            "   9.809394     6.03846981   5.82955409   5.06518855   4.8436773 ]\n"
          ]
        }
      ],
      "source": [
        "from sklearn import feature_selection as fs\n",
        "np.random.seed(999)\n",
        "fs_fit_fscore = fs.SelectKBest(fs.f_classif, k=10)\n",
        "fs_fit_fscore.fit_transform(data_scaled, target)\n",
        "fs_indices_fscore = np.argsort(fs_fit_fscore.scores_)[::-1][0:10]\n",
        "best_features_fscore = data.columns[fs_indices_fscore].values\n",
        "print(best_features_fscore)\n",
        "feature_importances_fscore = fs_fit_fscore.scores_[fs_indices_fscore]\n",
        "print(feature_importances_fscore)"
      ]
    },
    {
      "cell_type": "code",
      "execution_count": 34,
      "metadata": {
        "colab": {
          "base_uri": "https://localhost:8080/"
        },
        "id": "fRNv2LwFx4gj",
        "outputId": "1206a143-0cad-4a34-afd6-077681c3358e"
      },
      "outputs": [
        {
          "output_type": "execute_result",
          "data": {
            "text/plain": [
              "0.8481973434535103"
            ]
          },
          "metadata": {},
          "execution_count": 34
        }
      ],
      "source": [
        "cv_results_fscore = cross_val_score(estimator=clf,\n",
        "                             X=data_scaled[:, fs_indices_fscore],\n",
        "                             y=target,\n",
        "                             cv=cv_method,\n",
        "                             scoring='roc_auc')\n",
        "cv_results_fscore.mean()"
      ]
    },
    {
      "cell_type": "markdown",
      "metadata": {
        "id": "GZkwkhJ2x4gk"
      },
      "source": [
        "The AUC score for the top 10 features selected by F-Score is 0.812."
      ]
    },
    {
      "cell_type": "markdown",
      "metadata": {
        "id": "W7fsmaBex4gk"
      },
      "source": [
        "### Performance Comparison Using Paired T-Tests"
      ]
    },
    {
      "cell_type": "code",
      "execution_count": 35,
      "metadata": {
        "colab": {
          "base_uri": "https://localhost:8080/"
        },
        "id": "WeBprwd0x4gl",
        "outputId": "efc6b614-b30b-4e9a-d70e-dce84e74bad6"
      },
      "outputs": [
        {
          "output_type": "stream",
          "name": "stdout",
          "text": [
            "0.0\n",
            "0.0\n",
            "0.028\n"
          ]
        }
      ],
      "source": [
        "from scipy import stats\n",
        "print(stats.ttest_rel(cv_results_full, cv_results_fscore).pvalue.round(3))\n",
        "print(stats.ttest_rel(cv_results_full, cv_results_rfi).pvalue.round(3))\n",
        "print(stats.ttest_rel(cv_results_rfi, cv_results_fscore).pvalue.round(3))"
      ]
    },
    {
      "cell_type": "markdown",
      "metadata": {
        "id": "1Ut2ndJFx4gn"
      },
      "source": [
        "The performances after feature selection by both Random Forest Importance and F-Score are statistically better than the performance based on the full features, at 5% level of significance.\n",
        "Meanwhile, the difference between F-Score and Random Forest Importance is also statistically significant. Therefore, for the further analysis, I continue with the top 10 features selected by F-Score as shown in the below figure. In this figure, it shows that the importance decreases sharply after the top 2 features. The importance becomes very marginalised till the last feature."
      ]
    },
    {
      "cell_type": "code",
      "execution_count": 36,
      "metadata": {
        "colab": {
          "base_uri": "https://localhost:8080/",
          "height": 467
        },
        "id": "fx11LNuFx4gn",
        "outputId": "bd49a309-f8b7-4a4a-c284-00065ec42617"
      },
      "outputs": [
        {
          "output_type": "execute_result",
          "data": {
            "text/plain": [
              "<Axes: xlabel='Feature', ylabel='Importance'>"
            ]
          },
          "metadata": {},
          "execution_count": 36
        },
        {
          "output_type": "display_data",
          "data": {
            "text/plain": [
              "<Figure size 640x480 with 1 Axes>"
            ],
            "image/png": "[encoded data removed]"
          },
          "metadata": {}
        }
      ],
      "source": [
        "feature_ranking = pd.DataFrame({'Feature': best_features_fscore,\n",
        "                                'Importance': list(feature_importances_fscore)},\n",
        "                               columns=['Feature', 'Importance'])\n",
        "import seaborn as sns\n",
        "sns. barplot(x=\"Feature\",y=\"Importance\",\n",
        "            color='blue',data=feature_ranking)"
      ]
    },
    {
      "cell_type": "markdown",
      "metadata": {
        "id": "b_Lo7ydMx4go"
      },
      "source": [
        "## Train-Test Splitting\n",
        "\n",
        "The dataset is split into train and test at a 70:30 partition ratio by stratification:\n",
        "\n",
        "* Training (70%): X_train (descriptive), y_train (target)\n",
        "* Testing (30%): X_test (desciptive), y_test (target)\n",
        "\n",
        "Meanwhile, I created X_train_10 and X_test_10, which have the same sample rows as X_train and X_test, but only have the top 10 features selected by F-score from the previous process."
      ]
    },
    {
      "cell_type": "code",
      "execution_count": 37,
      "metadata": {
        "colab": {
          "base_uri": "https://localhost:8080/"
        },
        "id": "q1vIC5Mdx4go",
        "outputId": "3fba5dcc-6b39-41ee-c58d-9f6a494225cb"
      },
      "outputs": [
        {
          "output_type": "stream",
          "name": "stdout",
          "text": [
            "(276, 46)\n",
            "(119, 46)\n"
          ]
        }
      ],
      "source": [
        "from sklearn.model_selection import train_test_split\n",
        "X_train,X_test,y_train,y_test = train_test_split(data_scaled,\n",
        "                                                 target.values,\n",
        "                                                 test_size=0.3,\n",
        "                                                 random_state=999,\n",
        "                                                 stratify=target.values)\n",
        "print(X_train.shape)\n",
        "print(X_test.shape)"
      ]
    },
    {
      "cell_type": "code",
      "execution_count": 38,
      "metadata": {
        "colab": {
          "base_uri": "https://localhost:8080/"
        },
        "id": "mlKFBjY_x4gp",
        "outputId": "9990a233-3e83-460a-a13e-1da2882c84bc"
      },
      "outputs": [
        {
          "output_type": "stream",
          "name": "stdout",
          "text": [
            "(276, 10)\n",
            "(119, 10)\n"
          ]
        }
      ],
      "source": [
        "X_train_10 = pd.DataFrame(X_train, columns=data.columns)\n",
        "X_train_10 = X_train_10[best_features_fscore].values\n",
        "X_test_10 = pd.DataFrame(X_test, columns=data.columns)\n",
        "X_test_10 = X_test_10[best_features_fscore].values\n",
        "print(X_train_10.shape)\n",
        "print(X_test_10.shape)"
      ]
    },
    {
      "cell_type": "markdown",
      "metadata": {
        "id": "nmGgPR8-x4gq"
      },
      "source": [
        "# Hyperparameter Tuning<a class=\"anchor\" id=\"3\"></a>\n",
        "\n",
        "In this section, I train and fine-tune the models based on the 276 rows of training data. I also compare the performance of models with the full features and with the top 10 features.\n",
        "\n",
        "Each model is evaluated by 5-fold stratified cross-validation with 3 repetitions for hyperparameter tuning."
      ]
    },
    {
      "cell_type": "code",
      "execution_count": 39,
      "metadata": {
        "id": "AU4-dWIVx4gq"
      },
      "outputs": [],
      "source": [
        "from sklearn.pipeline import Pipeline\n",
        "from sklearn.model_selection import GridSearchCV\n",
        "cv_method = RepeatedStratifiedKFold(n_splits = 5,n_repeats=3,random_state=999)"
      ]
    },
    {
      "cell_type": "markdown",
      "metadata": {
        "id": "MTW8M5Ppx4gq"
      },
      "source": [
        "## 1. K-Nearest Neighbors\n",
        "\n",
        "I use grid search for hyperparameter tuning in a pipeline and train the KNN model with different k-nearest neighbors and distance types."
      ]
    },
    {
      "cell_type": "code",
      "execution_count": 40,
      "metadata": {
        "id": "ju58XKlUx4gr"
      },
      "outputs": [],
      "source": [
        "params_knn = {'n_neighbors': [2,3,4,5,6,7,8,9,10,11,12,13,14,15],\n",
        "              'p': [1, 2]}\n",
        "gs_knn = GridSearchCV(estimator=KNeighborsClassifier(),\n",
        "                      param_grid=params_knn,\n",
        "                      cv=cv_method,\n",
        "                      verbose=1,\n",
        "                      scoring='roc_auc')"
      ]
    },
    {
      "cell_type": "code",
      "execution_count": 41,
      "metadata": {
        "colab": {
          "base_uri": "https://localhost:8080/"
        },
        "id": "Ad5llOJzx4gr",
        "outputId": "b822a640-9fc4-465f-de56-aac6731b371f"
      },
      "outputs": [
        {
          "output_type": "stream",
          "name": "stdout",
          "text": [
            "Fitting 15 folds for each of 28 candidates, totalling 420 fits\n",
            "{'n_neighbors': 15, 'p': 1}\n",
            "0.8436663143058493\n",
            "KNeighborsClassifier(n_neighbors=15, p=1)\n"
          ]
        }
      ],
      "source": [
        "gs_knn.fit(X_train, y_train)\n",
        "print(gs_knn.best_params_)\n",
        "print(gs_knn.best_score_)\n",
        "knn_best = gs_knn.best_estimator_\n",
        "print(knn_best)"
      ]
    },
    {
      "cell_type": "code",
      "execution_count": 42,
      "metadata": {
        "colab": {
          "base_uri": "https://localhost:8080/"
        },
        "id": "kjBlj5hax4gs",
        "outputId": "41ca636b-a65b-4a44-e5ed-765a8db5958b"
      },
      "outputs": [
        {
          "output_type": "stream",
          "name": "stdout",
          "text": [
            "Fitting 15 folds for each of 28 candidates, totalling 420 fits\n",
            "{'n_neighbors': 15, 'p': 1}\n",
            "0.9805667670361117\n",
            "KNeighborsClassifier(n_neighbors=15, p=1)\n"
          ]
        }
      ],
      "source": [
        "gs_knn.fit(X_train_10, y_train)\n",
        "print(gs_knn.best_params_)\n",
        "print(gs_knn.best_score_)\n",
        "knn_best10 = gs_knn.best_estimator_\n",
        "print(knn_best10)"
      ]
    },
    {
      "cell_type": "markdown",
      "metadata": {
        "id": "1x3VpylHx4gt"
      },
      "source": [
        "* The optimal KNN model based on the full features has a mean AUC score of 0.725 with 14 nearest neighbors and with Manhattan distance.\n",
        "* The optimal KNN model based on the top 10 features has a mean AUC score of 0.934 with 14 nearest neighbors and with Manhattan distance.\n",
        "\n",
        "In general, the performance of KNN models seems to have improved after feature selection."
      ]
    },
    {
      "cell_type": "markdown",
      "metadata": {
        "id": "m6MPEhpNx4gt"
      },
      "source": [
        "## 2. Decision Tree\n",
        "\n",
        "To find the optimal Decision Tree model, I include different criterion (gini index and entropy), maximum depth and minimum sample split in the grid search."
      ]
    },
    {
      "cell_type": "code",
      "execution_count": 43,
      "metadata": {
        "id": "RcnIJ5iix4gu"
      },
      "outputs": [],
      "source": [
        "from sklearn.tree import DecisionTreeClassifier\n",
        "params_dt = {'criterion':['gini','entropy'],\n",
        "             'max_depth':[3,4,5,6,7,8,9,10],\n",
        "             'min_samples_split':[2,3,4,5]}\n",
        "\n",
        "gs_dt = GridSearchCV(estimator=DecisionTreeClassifier(random_state=999),\n",
        "                      param_grid=params_dt,\n",
        "                      cv=cv_method,\n",
        "                      verbose=1,\n",
        "                      scoring='roc_auc')"
      ]
    },
    {
      "cell_type": "code",
      "execution_count": 44,
      "metadata": {
        "colab": {
          "base_uri": "https://localhost:8080/"
        },
        "id": "5ELujEBJx4gv",
        "outputId": "434bd5a7-7b29-425f-e7d3-97bd7f61841f"
      },
      "outputs": [
        {
          "output_type": "stream",
          "name": "stdout",
          "text": [
            "Fitting 15 folds for each of 64 candidates, totalling 960 fits\n",
            "{'criterion': 'gini', 'max_depth': 3, 'min_samples_split': 2}\n",
            "0.9478836995750314\n",
            "DecisionTreeClassifier(max_depth=3, random_state=999)\n"
          ]
        }
      ],
      "source": [
        "gs_dt.fit(X_train, y_train)\n",
        "print(gs_dt.best_params_)\n",
        "print(gs_dt.best_score_)\n",
        "dt_best = gs_dt.best_estimator_\n",
        "print(dt_best)"
      ]
    },
    {
      "cell_type": "code",
      "execution_count": 45,
      "metadata": {
        "colab": {
          "base_uri": "https://localhost:8080/"
        },
        "id": "eE2rwihex4gx",
        "outputId": "20081d6a-8170-45be-8c54-faad7368651e"
      },
      "outputs": [
        {
          "output_type": "stream",
          "name": "stdout",
          "text": [
            "Fitting 15 folds for each of 64 candidates, totalling 960 fits\n",
            "{'criterion': 'gini', 'max_depth': 4, 'min_samples_split': 5}\n",
            "0.9697499572895978\n",
            "DecisionTreeClassifier(max_depth=4, min_samples_split=5, random_state=999)\n"
          ]
        }
      ],
      "source": [
        "gs_dt.fit(X_train_10, y_train)\n",
        "print(gs_dt.best_params_)\n",
        "print(gs_dt.best_score_)\n",
        "dt_best10 = gs_dt.best_estimator_\n",
        "print(dt_best10)"
      ]
    },
    {
      "cell_type": "markdown",
      "metadata": {
        "id": "vgQdywkQx4gz"
      },
      "source": [
        "The optimal Decision Tree model based on the full features has a mean AUC score of 0.956 using gini index. It has a maximum depth of 3 and minimum split value of 2 samples.\n",
        "The optimal Decision Tree model based on the top 10 features has a mean AUC score of 0.963 using entropy. It also has a maximum depth of 3 and minimum split value of 2 samples.\n",
        "It seems the performance of KNN models does not improve much after feature selection, but I will confirm it with a paired t-tests later."
      ]
    },
    {
      "cell_type": "markdown",
      "metadata": {
        "id": "oI2E7dK_x4gz"
      },
      "source": [
        "## 3. (Gaussian) Naive Bayes\n",
        "\n",
        "I include different var_smoothing to search for the optimal Gaussian Naive Bayes model, starting with 1 to 10^-9 with 100 different values. Before fitting into the algorithm, I perform a power transformation to ensure that each descriptive feature follows a Gaussian distribution."
      ]
    },
    {
      "cell_type": "code",
      "execution_count": 46,
      "metadata": {
        "id": "m4zcpQw8x4g0"
      },
      "outputs": [],
      "source": [
        "from sklearn.preprocessing import PowerTransformer\n",
        "X_train_trans = PowerTransformer().fit_transform(X_train)\n",
        "X_train_10_trans = PowerTransformer().fit_transform(X_train_10)"
      ]
    },
    {
      "cell_type": "code",
      "execution_count": 47,
      "metadata": {
        "id": "WS9o_qW8x4g2"
      },
      "outputs": [],
      "source": [
        "from sklearn.naive_bayes import GaussianNB\n",
        "from sklearn.model_selection import RandomizedSearchCV\n",
        "\n",
        "np.random.seed(999)\n",
        "params_nb ={'var_smoothing': np.logspace(0,-9,num=100)}\n",
        "gs_nb =GridSearchCV(estimator=GaussianNB(),\n",
        "                   param_grid=params_nb,\n",
        "                   cv=cv_method,\n",
        "                   verbose=1,\n",
        "                   scoring='roc_auc')"
      ]
    },
    {
      "cell_type": "code",
      "execution_count": 48,
      "metadata": {
        "colab": {
          "base_uri": "https://localhost:8080/"
        },
        "id": "SV-lXCXmx4g4",
        "outputId": "8abb4516-c2bb-407c-8975-743582f9258d"
      },
      "outputs": [
        {
          "output_type": "stream",
          "name": "stdout",
          "text": [
            "Fitting 15 folds for each of 100 candidates, totalling 1500 fits\n",
            "{'var_smoothing': 1.0}\n",
            "0.9337558993742927\n",
            "GaussianNB(var_smoothing=1.0)\n"
          ]
        }
      ],
      "source": [
        "gs_nb.fit(X_train_trans, y_train)\n",
        "print(gs_nb.best_params_)\n",
        "print(gs_nb.best_score_)\n",
        "nb_best = gs_nb.best_estimator_\n",
        "print(nb_best)"
      ]
    },
    {
      "cell_type": "code",
      "execution_count": 49,
      "metadata": {
        "colab": {
          "base_uri": "https://localhost:8080/"
        },
        "id": "knYVVeTjx4g5",
        "outputId": "0ebed915-1319-456b-83ba-01efd35dee70"
      },
      "outputs": [
        {
          "output_type": "stream",
          "name": "stdout",
          "text": [
            "Fitting 15 folds for each of 100 candidates, totalling 1500 fits\n",
            "{'var_smoothing': 0.005336699231206307}\n",
            "0.9715025519465266\n",
            "GaussianNB(var_smoothing=0.005336699231206307)\n"
          ]
        }
      ],
      "source": [
        "gs_nb.fit(X_train_10_trans, y_train)\n",
        "print(gs_nb.best_params_)\n",
        "print(gs_nb.best_score_)\n",
        "nb_best10 = gs_nb.best_estimator_\n",
        "print(nb_best10)"
      ]
    },
    {
      "cell_type": "markdown",
      "metadata": {
        "id": "KOB_0U6cx4g5"
      },
      "source": [
        "The optimal Naive Bayes model based on the full features yields a meal AUC score of 0.889, while the optimal one based on the top 10 features has a mean AUC score of 0.931."
      ]
    },
    {
      "cell_type": "markdown",
      "metadata": {
        "id": "2t0DqWRFx4g6"
      },
      "source": [
        "# Performance Comparison <a class=\"anchor\" id=\"4\"></a>"
      ]
    },
    {
      "cell_type": "markdown",
      "metadata": {
        "id": "kqCEprZsx4g6"
      },
      "source": [
        "In this section, I fit the optimal models from the above analyses on the test data with 5-fold stratified cross validation and 3 repetitions. Then, I compare the performance of models by paired t-test:\n",
        "* DT (full features) vs. DT (top 10 features)\n",
        "* KNN (full features) vs. KNN (top 10 features)\n",
        "* NB (full features) vs. NB (top 10 features)\n",
        "\n",
        "Full Features:\n",
        "* DT vs. KNN\n",
        "* DT vs. NB\n",
        "* KNN vs. NB\n",
        "\n",
        "Top 10 Features:\n",
        "* DT vs. KNN\n",
        "* DT vs. NB\n",
        "* KNN vs. NB"
      ]
    },
    {
      "cell_type": "code",
      "execution_count": 50,
      "metadata": {
        "id": "BcURnHqZx4g7"
      },
      "outputs": [],
      "source": [
        "from sklearn.model_selection import cross_val_score\n",
        "\n",
        "cv_method_ttest = RepeatedStratifiedKFold(n_splits=5,n_repeats=3,\n",
        "                                          random_state=999)"
      ]
    },
    {
      "cell_type": "code",
      "execution_count": 51,
      "metadata": {
        "colab": {
          "base_uri": "https://localhost:8080/"
        },
        "id": "ZXfJcGjAx4g8",
        "outputId": "07da43af-c57b-48db-88f1-1fb24d8e7080"
      },
      "outputs": [
        {
          "output_type": "stream",
          "name": "stdout",
          "text": [
            "KNN(full features): 0.7958609486679663\n",
            "KNN(top 10 features): 0.9444704353476283\n",
            "DT(full features): 0.9229434697855751\n",
            "DT(top 10 features): 0.9252339181286547\n",
            "NB(full features): 0.7730734243014943\n",
            "NB(top 10 features): 0.9242560103963613\n"
          ]
        }
      ],
      "source": [
        "cv_results_knn = cross_val_score(estimator=knn_best,\n",
        "                                 X=X_test,\n",
        "                                 y=y_test,\n",
        "                                 cv=cv_method_ttest,\n",
        "                                 scoring='roc_auc')\n",
        "cv_results_knn_10 = cross_val_score(estimator=knn_best10,\n",
        "                                 X=X_test_10,\n",
        "                                 y=y_test,\n",
        "                                 cv=cv_method_ttest,\n",
        "                                 scoring='roc_auc')\n",
        "cv_results_dt = cross_val_score(estimator=dt_best,\n",
        "                                X=X_test,\n",
        "                                y=y_test,\n",
        "                                cv=cv_method_ttest,\n",
        "                                scoring='roc_auc')\n",
        "cv_results_dt_10 = cross_val_score(estimator=dt_best10,\n",
        "                                X=X_test_10,\n",
        "                                y=y_test,\n",
        "                                cv=cv_method_ttest,\n",
        "                                scoring='roc_auc')\n",
        "cv_results_nb = cross_val_score(estimator=nb_best,\n",
        "                                X=X_test,\n",
        "                                y=y_test,\n",
        "                                cv=cv_method_ttest,\n",
        "                                scoring='roc_auc')\n",
        "cv_results_nb_10 = cross_val_score(estimator=nb_best10,\n",
        "                                X=X_test_10,\n",
        "                                y=y_test,\n",
        "                                cv=cv_method_ttest,\n",
        "                                scoring='roc_auc')\n",
        "print(\"KNN(full features):\",cv_results_knn.mean())\n",
        "print(\"KNN(top 10 features):\",cv_results_knn_10.mean())\n",
        "print(\"DT(full features):\",cv_results_dt.mean())\n",
        "print(\"DT(top 10 features):\",cv_results_dt_10.mean())\n",
        "print(\"NB(full features):\",cv_results_nb.mean())\n",
        "print(\"NB(top 10 features):\",cv_results_nb_10.mean())"
      ]
    },
    {
      "cell_type": "code",
      "execution_count": 52,
      "metadata": {
        "colab": {
          "base_uri": "https://localhost:8080/"
        },
        "id": "OcxQfaTwx4g8",
        "outputId": "a10aa240-dde5-40ea-9b39-f4e4e25b04e7"
      },
      "outputs": [
        {
          "output_type": "stream",
          "name": "stdout",
          "text": [
            "TtestResult(statistic=-0.1607322489531722, pvalue=0.8746005546493669, df=14)\n",
            "TtestResult(statistic=-5.747337018652032, pvalue=5.0478115802444565e-05, df=14)\n",
            "TtestResult(statistic=-5.976196838527565, pvalue=3.39087450620161e-05, df=14)\n"
          ]
        }
      ],
      "source": [
        "print(stats.ttest_rel(cv_results_dt, cv_results_dt_10))\n",
        "print(stats.ttest_rel(cv_results_nb, cv_results_nb_10))\n",
        "print(stats.ttest_rel(cv_results_knn, cv_results_knn_10))"
      ]
    },
    {
      "cell_type": "markdown",
      "metadata": {
        "id": "4BdJb_jdx4g9"
      },
      "source": [
        "The above results show that all models perform significantly better with the top 10 features selected by F-Score, than with the full features, at a 5% level of significance."
      ]
    },
    {
      "cell_type": "code",
      "execution_count": 53,
      "metadata": {
        "colab": {
          "base_uri": "https://localhost:8080/"
        },
        "id": "XzSdEfIvx4g-",
        "outputId": "63842813-6730-4a09-88b6-d9ea02db5971"
      },
      "outputs": [
        {
          "output_type": "stream",
          "name": "stdout",
          "text": [
            "TtestResult(statistic=6.50321325328784, pvalue=1.3944130919097455e-05, df=14)\n",
            "TtestResult(statistic=5.755615277005932, pvalue=4.9750574518334256e-05, df=14)\n",
            "TtestResult(statistic=1.1295502651603704, pvalue=0.27764840286244596, df=14)\n"
          ]
        }
      ],
      "source": [
        "print(stats.ttest_rel(cv_results_dt, cv_results_knn))\n",
        "print(stats.ttest_rel(cv_results_dt, cv_results_nb))\n",
        "print(stats.ttest_rel(cv_results_knn, cv_results_nb))"
      ]
    },
    {
      "cell_type": "markdown",
      "metadata": {
        "id": "an0jIznnx4g-"
      },
      "source": [
        "For models based on the full features, the Decision Tree model performs significantly better than KNN and Naive Bayes models, at a 5% level of significance. KNN and Naive Bayes models perform at similar levels."
      ]
    },
    {
      "cell_type": "code",
      "execution_count": 54,
      "metadata": {
        "colab": {
          "base_uri": "https://localhost:8080/"
        },
        "id": "2f8rZ-gbx4g_",
        "outputId": "62c67e24-8c71-421c-a958-cffc95d83e95"
      },
      "outputs": [
        {
          "output_type": "stream",
          "name": "stdout",
          "text": [
            "TtestResult(statistic=-0.8745713931229808, pvalue=0.3965627967926201, df=14)\n",
            "TtestResult(statistic=0.03735372282084963, pvalue=0.9707303820044317, df=14)\n",
            "TtestResult(statistic=1.7506768905688892, pvalue=0.10187280370479893, df=14)\n"
          ]
        }
      ],
      "source": [
        "print(stats.ttest_rel(cv_results_dt_10, cv_results_knn_10))\n",
        "print(stats.ttest_rel(cv_results_dt_10, cv_results_nb_10))\n",
        "print(stats.ttest_rel(cv_results_knn_10, cv_results_nb_10))"
      ]
    },
    {
      "cell_type": "markdown",
      "metadata": {
        "id": "UkgreexUx4hA"
      },
      "source": [
        "For models based on the top 10 features selected by F-Score, the KNN model performs significantly better than the Naive Bayes model. Decision Tree performs similarily comparing with either KNN or Naive Bayes models. It is hard to decide the optimal model at this stage with only AUC score available, but based on the above performance comparison, it is clear that all models with the top 10 features perform better on the test data. Therefore, for further evaluation on accuracy, precision, recall, F1 Score and confusion matrix, I only consider models with the top 10 features."
      ]
    },
    {
      "cell_type": "code",
      "execution_count": 55,
      "metadata": {
        "id": "hRC9wjtTx4hA"
      },
      "outputs": [],
      "source": [
        "pred_knn = gs_knn.predict(X_test_10)\n",
        "pred_dt = gs_dt.predict(X_test_10)\n",
        "X_test_10_trans = PowerTransformer().fit_transform(X_test_10)\n",
        "pred_nb = gs_nb.predict(X_test_10_trans)"
      ]
    },
    {
      "cell_type": "code",
      "execution_count": 56,
      "metadata": {
        "colab": {
          "base_uri": "https://localhost:8080/"
        },
        "id": "OCQDRwhbx4hB",
        "outputId": "35476a3b-9e1a-4256-fc59-1849be68511f"
      },
      "outputs": [
        {
          "output_type": "stream",
          "name": "stdout",
          "text": [
            "\n",
            "KNN: Confusion matrix\n",
            "[[11 15]\n",
            " [ 0 93]]\n",
            "\n",
            "KNN: Classification report\n",
            "              precision    recall  f1-score   support\n",
            "\n",
            "           0       1.00      0.42      0.59        26\n",
            "           1       0.86      1.00      0.93        93\n",
            "\n",
            "    accuracy                           0.87       119\n",
            "   macro avg       0.93      0.71      0.76       119\n",
            "weighted avg       0.89      0.87      0.85       119\n",
            "\n",
            "\n",
            "DT: Confusion matrix\n",
            "[[23  3]\n",
            " [ 3 90]]\n",
            "\n",
            "DT: Classification report\n",
            "              precision    recall  f1-score   support\n",
            "\n",
            "           0       0.88      0.88      0.88        26\n",
            "           1       0.97      0.97      0.97        93\n",
            "\n",
            "    accuracy                           0.95       119\n",
            "   macro avg       0.93      0.93      0.93       119\n",
            "weighted avg       0.95      0.95      0.95       119\n",
            "\n",
            "\n",
            "NB: Confusion matrix\n",
            "[[23  3]\n",
            " [ 7 86]]\n",
            "\n",
            "NB: Classification report\n",
            "              precision    recall  f1-score   support\n",
            "\n",
            "           0       0.77      0.88      0.82        26\n",
            "           1       0.97      0.92      0.95        93\n",
            "\n",
            "    accuracy                           0.92       119\n",
            "   macro avg       0.87      0.90      0.88       119\n",
            "weighted avg       0.92      0.92      0.92       119\n",
            "\n"
          ]
        }
      ],
      "source": [
        "from sklearn import metrics\n",
        "print(\"\\nKNN: Confusion matrix\")\n",
        "print(metrics.confusion_matrix(y_test, pred_knn))\n",
        "print(\"\\nKNN: Classification report\")\n",
        "print(metrics.classification_report(y_test, pred_knn))\n",
        "\n",
        "print(\"\\nDT: Confusion matrix\")\n",
        "print(metrics.confusion_matrix(y_test, pred_dt))\n",
        "print(\"\\nDT: Classification report\")\n",
        "print(metrics.classification_report(y_test, pred_dt))\n",
        "\n",
        "print(\"\\nNB: Confusion matrix\")\n",
        "print(metrics.confusion_matrix(y_test, pred_nb))\n",
        "print(\"\\nNB: Classification report\")\n",
        "print(metrics.classification_report(y_test, pred_nb))"
      ]
    },
    {
      "cell_type": "markdown",
      "metadata": {
        "id": "MXLegqvBx4hB"
      },
      "source": [
        "Suppose the school wants to predict students who are likely to fail the Mathematics course in order to give these students more support in advance. Then the recall of \"0\" (fail) is an important metric to consider in this case. The Decision Tree model is the most optimal one.\n",
        "However, if the school wants to correctly predict students who are likely to pass in order to select good students to attend Mathematics competitions, the recall of \"1\" (pass) should be emphasized. Therefore, the KNN model can be the most optimal one.\n",
        "In general, the Decision Tree model can be regarded as the best model in terms of the F1-score as this score is a weighted harmonic mean of precision and recall."
      ]
    },
    {
      "cell_type": "markdown",
      "metadata": {
        "id": "OQiLyP9dx4hC"
      },
      "source": [
        "# Summary <a class=\"anchor\" id=\"5\"></a>\n",
        "\n",
        "The Decision Tree model based on the top 10 features selected by F-Score is the best model for prediction in this analysis, under a limited hyperparameter tuning and feature selection approach. Although there is not enough statiscal evidence to show that this Descision Tree model performs better than the other KNN and Naive Bayes models, at a 5% level of significance, it yields the highest AUC score (0.916) and F1 score (0.9). In general, all models with only the top 10 features selected by F-Score perform significantly better than those with the full features, at a 5% level of significance."
      ]
    },
    {
      "cell_type": "markdown",
      "metadata": {
        "id": "0apodajgx4hC"
      },
      "source": [
        "# References <a class=\"anchor\" id=\"6\"></a>\n",
        "* P. Cortez and A. Silva. Using Data Mining to Predict Secondary School Student Performance. In A. Brito and J. Teixeira Eds., Proceedings of 5th FUture BUsiness TEChnology Conference (FUBUTEC 2008) pp. 5-12, Porto, Portugal, April, 2008, EUROSIS, ISBN 978-9077381-39-7."
      ]
    }
  ],
  "metadata": {
    "kernelspec": {
      "display_name": "Python 3",
      "language": "python",
      "name": "python3"
    },
    "language_info": {
      "codemirror_mode": {
        "name": "ipython",
        "version": 3
      },
      "file_extension": ".py",
      "mimetype": "text/x-python",
      "name": "python",
      "nbconvert_exporter": "python",
      "pygments_lexer": "ipython3",
      "version": "3.6.6"
    },
    "colab": {
      "provenance": [],
      "include_colab_link": true
    }
  },
  "nbformat": 4,
  "nbformat_minor": 0
}