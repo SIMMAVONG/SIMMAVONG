{
  "cells": [
    {
      "cell_type": "markdown",
      "metadata": {
        "id": "view-in-github",
        "colab_type": "text"
      },
      "source": [
        "<a href=\"https://colab.research.google.com/github/SIMMAVONG/SIMMAVONG/blob/main/5_StudentPrediction.ipynb\" target=\"_parent\"><img src=\"https://colab.research.google.com/assets/colab-badge.svg\" alt=\"Open In Colab\"/></a>"
      ]
    },
    {
      "cell_type": "code",
      "execution_count": 1,
      "id": "a852ccf6",
      "metadata": {
        "id": "a852ccf6"
      },
      "outputs": [],
      "source": [
        "import missingno\n",
        "import pandas as pd\n",
        "import numpy as np\n",
        "import seaborn as sns\n",
        "sns.set_theme(style=\"white\")\n",
        "import scipy.cluster.hierarchy as shc\n",
        "import matplotlib.pyplot as plt\n",
        "import math\n",
        "%matplotlib inline\n",
        "import warnings\n",
        "from sklearn.neural_network import MLPClassifier\n",
        "from sklearn.metrics import confusion_matrix\n",
        "from sklearn.metrics import ConfusionMatrixDisplay\n",
        "from sklearn.metrics import roc_curve\n",
        "from sklearn.metrics import RocCurveDisplay\n",
        "warnings.filterwarnings(\"ignore\")\n",
        "from sklearn.preprocessing import LabelEncoder\n",
        "from sklearn.preprocessing import StandardScaler\n",
        "from sklearn.preprocessing import MinMaxScaler\n",
        "from sklearn.preprocessing import OneHotEncoder\n",
        "from sklearn.model_selection import train_test_split\n",
        "from sklearn.metrics import precision_recall_curve\n",
        "from sklearn.metrics import PrecisionRecallDisplay\n",
        "from sklearn import preprocessing\n",
        "from sklearn.ensemble import RandomForestClassifier\n",
        "from sklearn.naive_bayes import GaussianNB\n",
        "from sklearn import svm\n",
        "from sklearn.neighbors import KNeighborsClassifier\n",
        "from sklearn.linear_model import LinearRegression, LogisticRegression\n",
        "from sklearn.model_selection import cross_val_score\n",
        "from sklearn.feature_selection import mutual_info_classif\n",
        "from sklearn.model_selection import cross_validate,cross_val_predict\n",
        "\n",
        "df = pd.read_csv('xAPI-Edu-Data.csv')"
      ]
    },
    {
      "cell_type": "markdown",
      "id": "cb77b507",
      "metadata": {
        "id": "cb77b507"
      },
      "source": [
        "# Data Cleaning"
      ]
    },
    {
      "cell_type": "code",
      "execution_count": 2,
      "id": "0b3104d7",
      "metadata": {
        "colab": {
          "base_uri": "https://localhost:8080/",
          "height": 270
        },
        "id": "0b3104d7",
        "outputId": "c87b07d0-c125-4cf0-8991-e21b036dc890"
      },
      "outputs": [
        {
          "output_type": "execute_result",
          "data": {
            "text/plain": [
              "  gender NationalITy PlaceofBirth     StageID GradeID SectionID Topic  \\\n",
              "0      M          KW       KuwaIT  lowerlevel    G-04         A    IT   \n",
              "1      M          KW       KuwaIT  lowerlevel    G-04         A    IT   \n",
              "2      M          KW       KuwaIT  lowerlevel    G-04         A    IT   \n",
              "3      M          KW       KuwaIT  lowerlevel    G-04         A    IT   \n",
              "4      M          KW       KuwaIT  lowerlevel    G-04         A    IT   \n",
              "\n",
              "  Semester Relation  raisedhands  VisITedResources  AnnouncementsView  \\\n",
              "0        F   Father           15                16                  2   \n",
              "1        F   Father           20                20                  3   \n",
              "2        F   Father           10                 7                  0   \n",
              "3        F   Father           30                25                  5   \n",
              "4        F   Father           40                50                 12   \n",
              "\n",
              "   Discussion ParentAnsweringSurvey ParentschoolSatisfaction  \\\n",
              "0          20                   Yes                     Good   \n",
              "1          25                   Yes                     Good   \n",
              "2          30                    No                      Bad   \n",
              "3          35                    No                      Bad   \n",
              "4          50                    No                      Bad   \n",
              "\n",
              "  StudentAbsenceDays Class  \n",
              "0            Under-7     M  \n",
              "1            Under-7     M  \n",
              "2            Above-7     L  \n",
              "3            Above-7     L  \n",
              "4            Above-7     M  "
            ],
            "text/html": [
              "\n",
              "  <div id=\"df-6fe06bad-2823-461d-a6d3-46f61c018914\">\n",
              "    <div class=\"colab-df-container\">\n",
              "      <div>\n",
              "<style scoped>\n",
              "    .dataframe tbody tr th:only-of-type {\n",
              "        vertical-align: middle;\n",
              "    }\n",
              "\n",
              "    .dataframe tbody tr th {\n",
              "        vertical-align: top;\n",
              "    }\n",
              "\n",
              "    .dataframe thead th {\n",
              "        text-align: right;\n",
              "    }\n",
              "</style>\n",
              "<table border=\"1\" class=\"dataframe\">\n",
              "  <thead>\n",
              "    <tr style=\"text-align: right;\">\n",
              "      <th></th>\n",
              "      <th>gender</th>\n",
              "      <th>NationalITy</th>\n",
              "      <th>PlaceofBirth</th>\n",
              "      <th>StageID</th>\n",
              "      <th>GradeID</th>\n",
              "      <th>SectionID</th>\n",
              "      <th>Topic</th>\n",
              "      <th>Semester</th>\n",
              "      <th>Relation</th>\n",
              "      <th>raisedhands</th>\n",
              "      <th>VisITedResources</th>\n",
              "      <th>AnnouncementsView</th>\n",
              "      <th>Discussion</th>\n",
              "      <th>ParentAnsweringSurvey</th>\n",
              "      <th>ParentschoolSatisfaction</th>\n",
              "      <th>StudentAbsenceDays</th>\n",
              "      <th>Class</th>\n",
              "    </tr>\n",
              "  </thead>\n",
              "  <tbody>\n",
              "    <tr>\n",
              "      <th>0</th>\n",
              "      <td>M</td>\n",
              "      <td>KW</td>\n",
              "      <td>KuwaIT</td>\n",
              "      <td>lowerlevel</td>\n",
              "      <td>G-04</td>\n",
              "      <td>A</td>\n",
              "      <td>IT</td>\n",
              "      <td>F</td>\n",
              "      <td>Father</td>\n",
              "      <td>15</td>\n",
              "      <td>16</td>\n",
              "      <td>2</td>\n",
              "      <td>20</td>\n",
              "      <td>Yes</td>\n",
              "      <td>Good</td>\n",
              "      <td>Under-7</td>\n",
              "      <td>M</td>\n",
              "    </tr>\n",
              "    <tr>\n",
              "      <th>1</th>\n",
              "      <td>M</td>\n",
              "      <td>KW</td>\n",
              "      <td>KuwaIT</td>\n",
              "      <td>lowerlevel</td>\n",
              "      <td>G-04</td>\n",
              "      <td>A</td>\n",
              "      <td>IT</td>\n",
              "      <td>F</td>\n",
              "      <td>Father</td>\n",
              "      <td>20</td>\n",
              "      <td>20</td>\n",
              "      <td>3</td>\n",
              "      <td>25</td>\n",
              "      <td>Yes</td>\n",
              "      <td>Good</td>\n",
              "      <td>Under-7</td>\n",
              "      <td>M</td>\n",
              "    </tr>\n",
              "    <tr>\n",
              "      <th>2</th>\n",
              "      <td>M</td>\n",
              "      <td>KW</td>\n",
              "      <td>KuwaIT</td>\n",
              "      <td>lowerlevel</td>\n",
              "      <td>G-04</td>\n",
              "      <td>A</td>\n",
              "      <td>IT</td>\n",
              "      <td>F</td>\n",
              "      <td>Father</td>\n",
              "      <td>10</td>\n",
              "      <td>7</td>\n",
              "      <td>0</td>\n",
              "      <td>30</td>\n",
              "      <td>No</td>\n",
              "      <td>Bad</td>\n",
              "      <td>Above-7</td>\n",
              "      <td>L</td>\n",
              "    </tr>\n",
              "    <tr>\n",
              "      <th>3</th>\n",
              "      <td>M</td>\n",
              "      <td>KW</td>\n",
              "      <td>KuwaIT</td>\n",
              "      <td>lowerlevel</td>\n",
              "      <td>G-04</td>\n",
              "      <td>A</td>\n",
              "      <td>IT</td>\n",
              "      <td>F</td>\n",
              "      <td>Father</td>\n",
              "      <td>30</td>\n",
              "      <td>25</td>\n",
              "      <td>5</td>\n",
              "      <td>35</td>\n",
              "      <td>No</td>\n",
              "      <td>Bad</td>\n",
              "      <td>Above-7</td>\n",
              "      <td>L</td>\n",
              "    </tr>\n",
              "    <tr>\n",
              "      <th>4</th>\n",
              "      <td>M</td>\n",
              "      <td>KW</td>\n",
              "      <td>KuwaIT</td>\n",
              "      <td>lowerlevel</td>\n",
              "      <td>G-04</td>\n",
              "      <td>A</td>\n",
              "      <td>IT</td>\n",
              "      <td>F</td>\n",
              "      <td>Father</td>\n",
              "      <td>40</td>\n",
              "      <td>50</td>\n",
              "      <td>12</td>\n",
              "      <td>50</td>\n",
              "      <td>No</td>\n",
              "      <td>Bad</td>\n",
              "      <td>Above-7</td>\n",
              "      <td>M</td>\n",
              "    </tr>\n",
              "  </tbody>\n",
              "</table>\n",
              "</div>\n",
              "      <button class=\"colab-df-convert\" onclick=\"convertToInteractive('df-6fe06bad-2823-461d-a6d3-46f61c018914')\"\n",
              "              title=\"Convert this dataframe to an interactive table.\"\n",
              "              style=\"display:none;\">\n",
              "        \n",
              "  <svg xmlns=\"http://www.w3.org/2000/svg\" height=\"24px\"viewBox=\"0 0 24 24\"\n",
              "       width=\"24px\">\n",
              "    <path d=\"M0 0h24v24H0V0z\" fill=\"none\"/>\n",
              "    <path d=\"M18.56 5.44l.94 2.06.94-2.06 2.06-.94-2.06-.94-.94-2.06-.94 2.06-2.06.94zm-11 1L8.5 8.5l.94-2.06 2.06-.94-2.06-.94L8.5 2.5l-.94 2.06-2.06.94zm10 10l.94 2.06.94-2.06 2.06-.94-2.06-.94-.94-2.06-.94 2.06-2.06.94z\"/><path d=\"M17.41 7.96l-1.37-1.37c-.4-.4-.92-.59-1.43-.59-.52 0-1.04.2-1.43.59L10.3 9.45l-7.72 7.72c-.78.78-.78 2.05 0 2.83L4 21.41c.39.39.9.59 1.41.59.51 0 1.02-.2 1.41-.59l7.78-7.78 2.81-2.81c.8-.78.8-2.07 0-2.86zM5.41 20L4 18.59l7.72-7.72 1.47 1.35L5.41 20z\"/>\n",
              "  </svg>\n",
              "      </button>\n",
              "      \n",
              "  <style>\n",
              "    .colab-df-container {\n",
              "      display:flex;\n",
              "      flex-wrap:wrap;\n",
              "      gap: 12px;\n",
              "    }\n",
              "\n",
              "    .colab-df-convert {\n",
              "      background-color: #E8F0FE;\n",
              "      border: none;\n",
              "      border-radius: 50%;\n",
              "      cursor: pointer;\n",
              "      display: none;\n",
              "      fill: #1967D2;\n",
              "      height: 32px;\n",
              "      padding: 0 0 0 0;\n",
              "      width: 32px;\n",
              "    }\n",
              "\n",
              "    .colab-df-convert:hover {\n",
              "      background-color: #E2EBFA;\n",
              "      box-shadow: 0px 1px 2px rgba(60, 64, 67, 0.3), 0px 1px 3px 1px rgba(60, 64, 67, 0.15);\n",
              "      fill: #174EA6;\n",
              "    }\n",
              "\n",
              "    [theme=dark] .colab-df-convert {\n",
              "      background-color: #3B4455;\n",
              "      fill: #D2E3FC;\n",
              "    }\n",
              "\n",
              "    [theme=dark] .colab-df-convert:hover {\n",
              "      background-color: #434B5C;\n",
              "      box-shadow: 0px 1px 3px 1px rgba(0, 0, 0, 0.15);\n",
              "      filter: drop-shadow(0px 1px 2px rgba(0, 0, 0, 0.3));\n",
              "      fill: #FFFFFF;\n",
              "    }\n",
              "  </style>\n",
              "\n",
              "      <script>\n",
              "        const buttonEl =\n",
              "          document.querySelector('#df-6fe06bad-2823-461d-a6d3-46f61c018914 button.colab-df-convert');\n",
              "        buttonEl.style.display =\n",
              "          google.colab.kernel.accessAllowed ? 'block' : 'none';\n",
              "\n",
              "        async function convertToInteractive(key) {\n",
              "          const element = document.querySelector('#df-6fe06bad-2823-461d-a6d3-46f61c018914');\n",
              "          const dataTable =\n",
              "            await google.colab.kernel.invokeFunction('convertToInteractive',\n",
              "                                                     [key], {});\n",
              "          if (!dataTable) return;\n",
              "\n",
              "          const docLinkHtml = 'Like what you see? Visit the ' +\n",
              "            '<a target=\"_blank\" href=https://colab.research.google.com/notebooks/data_table.ipynb>data table notebook</a>'\n",
              "            + ' to learn more about interactive tables.';\n",
              "          element.innerHTML = '';\n",
              "          dataTable['output_type'] = 'display_data';\n",
              "          await google.colab.output.renderOutput(dataTable, element);\n",
              "          const docLink = document.createElement('div');\n",
              "          docLink.innerHTML = docLinkHtml;\n",
              "          element.appendChild(docLink);\n",
              "        }\n",
              "      </script>\n",
              "    </div>\n",
              "  </div>\n",
              "  "
            ]
          },
          "metadata": {},
          "execution_count": 2
        }
      ],
      "source": [
        "df.head()"
      ]
    },
    {
      "cell_type": "code",
      "execution_count": null,
      "id": "d22d70a2",
      "metadata": {
        "id": "d22d70a2",
        "outputId": "142ec317-cda5-4da7-8f1f-1d823714d5a8"
      },
      "outputs": [
        {
          "data": {
            "text/plain": [
              "(480, 17)"
            ]
          },
          "execution_count": 3,
          "metadata": {},
          "output_type": "execute_result"
        }
      ],
      "source": [
        "df.shape"
      ]
    },
    {
      "cell_type": "code",
      "execution_count": 3,
      "id": "24925418",
      "metadata": {
        "colab": {
          "base_uri": "https://localhost:8080/",
          "height": 300
        },
        "id": "24925418",
        "outputId": "aaabce57-e419-4fd9-bd3d-9017e4156367"
      },
      "outputs": [
        {
          "output_type": "execute_result",
          "data": {
            "text/plain": [
              "       raisedhands  VisITedResources  AnnouncementsView  Discussion\n",
              "count   480.000000        480.000000         480.000000  480.000000\n",
              "mean     46.775000         54.797917          37.918750   43.283333\n",
              "std      30.779223         33.080007          26.611244   27.637735\n",
              "min       0.000000          0.000000           0.000000    1.000000\n",
              "25%      15.750000         20.000000          14.000000   20.000000\n",
              "50%      50.000000         65.000000          33.000000   39.000000\n",
              "75%      75.000000         84.000000          58.000000   70.000000\n",
              "max     100.000000         99.000000          98.000000   99.000000"
            ],
            "text/html": [
              "\n",
              "  <div id=\"df-946546b8-93df-4390-a103-2dcae92fc7f1\">\n",
              "    <div class=\"colab-df-container\">\n",
              "      <div>\n",
              "<style scoped>\n",
              "    .dataframe tbody tr th:only-of-type {\n",
              "        vertical-align: middle;\n",
              "    }\n",
              "\n",
              "    .dataframe tbody tr th {\n",
              "        vertical-align: top;\n",
              "    }\n",
              "\n",
              "    .dataframe thead th {\n",
              "        text-align: right;\n",
              "    }\n",
              "</style>\n",
              "<table border=\"1\" class=\"dataframe\">\n",
              "  <thead>\n",
              "    <tr style=\"text-align: right;\">\n",
              "      <th></th>\n",
              "      <th>raisedhands</th>\n",
              "      <th>VisITedResources</th>\n",
              "      <th>AnnouncementsView</th>\n",
              "      <th>Discussion</th>\n",
              "    </tr>\n",
              "  </thead>\n",
              "  <tbody>\n",
              "    <tr>\n",
              "      <th>count</th>\n",
              "      <td>480.000000</td>\n",
              "      <td>480.000000</td>\n",
              "      <td>480.000000</td>\n",
              "      <td>480.000000</td>\n",
              "    </tr>\n",
              "    <tr>\n",
              "      <th>mean</th>\n",
              "      <td>46.775000</td>\n",
              "      <td>54.797917</td>\n",
              "      <td>37.918750</td>\n",
              "      <td>43.283333</td>\n",
              "    </tr>\n",
              "    <tr>\n",
              "      <th>std</th>\n",
              "      <td>30.779223</td>\n",
              "      <td>33.080007</td>\n",
              "      <td>26.611244</td>\n",
              "      <td>27.637735</td>\n",
              "    </tr>\n",
              "    <tr>\n",
              "      <th>min</th>\n",
              "      <td>0.000000</td>\n",
              "      <td>0.000000</td>\n",
              "      <td>0.000000</td>\n",
              "      <td>1.000000</td>\n",
              "    </tr>\n",
              "    <tr>\n",
              "      <th>25%</th>\n",
              "      <td>15.750000</td>\n",
              "      <td>20.000000</td>\n",
              "      <td>14.000000</td>\n",
              "      <td>20.000000</td>\n",
              "    </tr>\n",
              "    <tr>\n",
              "      <th>50%</th>\n",
              "      <td>50.000000</td>\n",
              "      <td>65.000000</td>\n",
              "      <td>33.000000</td>\n",
              "      <td>39.000000</td>\n",
              "    </tr>\n",
              "    <tr>\n",
              "      <th>75%</th>\n",
              "      <td>75.000000</td>\n",
              "      <td>84.000000</td>\n",
              "      <td>58.000000</td>\n",
              "      <td>70.000000</td>\n",
              "    </tr>\n",
              "    <tr>\n",
              "      <th>max</th>\n",
              "      <td>100.000000</td>\n",
              "      <td>99.000000</td>\n",
              "      <td>98.000000</td>\n",
              "      <td>99.000000</td>\n",
              "    </tr>\n",
              "  </tbody>\n",
              "</table>\n",
              "</div>\n",
              "      <button class=\"colab-df-convert\" onclick=\"convertToInteractive('df-946546b8-93df-4390-a103-2dcae92fc7f1')\"\n",
              "              title=\"Convert this dataframe to an interactive table.\"\n",
              "              style=\"display:none;\">\n",
              "        \n",
              "  <svg xmlns=\"http://www.w3.org/2000/svg\" height=\"24px\"viewBox=\"0 0 24 24\"\n",
              "       width=\"24px\">\n",
              "    <path d=\"M0 0h24v24H0V0z\" fill=\"none\"/>\n",
              "    <path d=\"M18.56 5.44l.94 2.06.94-2.06 2.06-.94-2.06-.94-.94-2.06-.94 2.06-2.06.94zm-11 1L8.5 8.5l.94-2.06 2.06-.94-2.06-.94L8.5 2.5l-.94 2.06-2.06.94zm10 10l.94 2.06.94-2.06 2.06-.94-2.06-.94-.94-2.06-.94 2.06-2.06.94z\"/><path d=\"M17.41 7.96l-1.37-1.37c-.4-.4-.92-.59-1.43-.59-.52 0-1.04.2-1.43.59L10.3 9.45l-7.72 7.72c-.78.78-.78 2.05 0 2.83L4 21.41c.39.39.9.59 1.41.59.51 0 1.02-.2 1.41-.59l7.78-7.78 2.81-2.81c.8-.78.8-2.07 0-2.86zM5.41 20L4 18.59l7.72-7.72 1.47 1.35L5.41 20z\"/>\n",
              "  </svg>\n",
              "      </button>\n",
              "      \n",
              "  <style>\n",
              "    .colab-df-container {\n",
              "      display:flex;\n",
              "      flex-wrap:wrap;\n",
              "      gap: 12px;\n",
              "    }\n",
              "\n",
              "    .colab-df-convert {\n",
              "      background-color: #E8F0FE;\n",
              "      border: none;\n",
              "      border-radius: 50%;\n",
              "      cursor: pointer;\n",
              "      display: none;\n",
              "      fill: #1967D2;\n",
              "      height: 32px;\n",
              "      padding: 0 0 0 0;\n",
              "      width: 32px;\n",
              "    }\n",
              "\n",
              "    .colab-df-convert:hover {\n",
              "      background-color: #E2EBFA;\n",
              "      box-shadow: 0px 1px 2px rgba(60, 64, 67, 0.3), 0px 1px 3px 1px rgba(60, 64, 67, 0.15);\n",
              "      fill: #174EA6;\n",
              "    }\n",
              "\n",
              "    [theme=dark] .colab-df-convert {\n",
              "      background-color: #3B4455;\n",
              "      fill: #D2E3FC;\n",
              "    }\n",
              "\n",
              "    [theme=dark] .colab-df-convert:hover {\n",
              "      background-color: #434B5C;\n",
              "      box-shadow: 0px 1px 3px 1px rgba(0, 0, 0, 0.15);\n",
              "      filter: drop-shadow(0px 1px 2px rgba(0, 0, 0, 0.3));\n",
              "      fill: #FFFFFF;\n",
              "    }\n",
              "  </style>\n",
              "\n",
              "      <script>\n",
              "        const buttonEl =\n",
              "          document.querySelector('#df-946546b8-93df-4390-a103-2dcae92fc7f1 button.colab-df-convert');\n",
              "        buttonEl.style.display =\n",
              "          google.colab.kernel.accessAllowed ? 'block' : 'none';\n",
              "\n",
              "        async function convertToInteractive(key) {\n",
              "          const element = document.querySelector('#df-946546b8-93df-4390-a103-2dcae92fc7f1');\n",
              "          const dataTable =\n",
              "            await google.colab.kernel.invokeFunction('convertToInteractive',\n",
              "                                                     [key], {});\n",
              "          if (!dataTable) return;\n",
              "\n",
              "          const docLinkHtml = 'Like what you see? Visit the ' +\n",
              "            '<a target=\"_blank\" href=https://colab.research.google.com/notebooks/data_table.ipynb>data table notebook</a>'\n",
              "            + ' to learn more about interactive tables.';\n",
              "          element.innerHTML = '';\n",
              "          dataTable['output_type'] = 'display_data';\n",
              "          await google.colab.output.renderOutput(dataTable, element);\n",
              "          const docLink = document.createElement('div');\n",
              "          docLink.innerHTML = docLinkHtml;\n",
              "          element.appendChild(docLink);\n",
              "        }\n",
              "      </script>\n",
              "    </div>\n",
              "  </div>\n",
              "  "
            ]
          },
          "metadata": {},
          "execution_count": 3
        }
      ],
      "source": [
        "#It does make sense that a student won't visit resources, raise hands in class and view announcements\n",
        "df.describe()"
      ]
    },
    {
      "cell_type": "code",
      "execution_count": 4,
      "id": "08d213ba",
      "metadata": {
        "colab": {
          "base_uri": "https://localhost:8080/"
        },
        "id": "08d213ba",
        "outputId": "60adc1d9-ae8b-46bf-cda8-b23f4cb5f96e"
      },
      "outputs": [
        {
          "output_type": "execute_result",
          "data": {
            "text/plain": [
              "Index(['gender', 'NationalITy', 'PlaceofBirth', 'StageID', 'GradeID',\n",
              "       'SectionID', 'Topic', 'Semester', 'Relation', 'raisedhands',\n",
              "       'VisITedResources', 'AnnouncementsView', 'Discussion',\n",
              "       'ParentAnsweringSurvey', 'ParentschoolSatisfaction',\n",
              "       'StudentAbsenceDays', 'Class'],\n",
              "      dtype='object')"
            ]
          },
          "metadata": {},
          "execution_count": 4
        }
      ],
      "source": [
        "df.columns"
      ]
    },
    {
      "cell_type": "code",
      "execution_count": 5,
      "id": "a3f7b116",
      "metadata": {
        "scrolled": true,
        "colab": {
          "base_uri": "https://localhost:8080/",
          "height": 426
        },
        "id": "a3f7b116",
        "outputId": "c89caa6a-68ce-417d-a752-1355468bd56d"
      },
      "outputs": [
        {
          "output_type": "execute_result",
          "data": {
            "text/plain": [
              "<matplotlib.axes._subplots.AxesSubplot at 0x7f1aeda21820>"
            ]
          },
          "metadata": {},
          "execution_count": 5
        },
        {
          "output_type": "display_data",
          "data": {
            "text/plain": [
              "<Figure size 2160x720 with 2 Axes>"
            ],
            "image/png": "[encoded data removed]"
          },
          "metadata": {
            "needs_background": "light"
          }
        }
      ],
      "source": [
        "#Looking for Missing Values\n",
        "#No missing values\n",
        "missingno.matrix(df,figsize=(30,10))"
      ]
    },
    {
      "cell_type": "code",
      "execution_count": 6,
      "id": "51b4c5d2",
      "metadata": {
        "colab": {
          "base_uri": "https://localhost:8080/",
          "height": 176
        },
        "id": "51b4c5d2",
        "outputId": "3d5d87db-5b73-4cb0-c47e-2d22fb8a5a53"
      },
      "outputs": [
        {
          "output_type": "execute_result",
          "data": {
            "text/plain": [
              "    gender NationalITy PlaceofBirth     StageID GradeID SectionID   Topic  \\\n",
              "326      M      Jordan       Jordan  lowerlevel    G-02         A  French   \n",
              "327      M      Jordan       Jordan  lowerlevel    G-02         A  French   \n",
              "\n",
              "    Semester Relation  raisedhands  VisITedResources  AnnouncementsView  \\\n",
              "326        F   Father           10                15                 10   \n",
              "327        S   Father           30                10                 20   \n",
              "\n",
              "     Discussion ParentAnsweringSurvey ParentschoolSatisfaction  \\\n",
              "326          21                    No                      Bad   \n",
              "327           5                    No                      Bad   \n",
              "\n",
              "    StudentAbsenceDays Class  \n",
              "326            Above-7     L  \n",
              "327            Above-7     L  "
            ],
            "text/html": [
              "\n",
              "  <div id=\"df-bdbdc6be-f653-4774-8927-db77bfe49c15\">\n",
              "    <div class=\"colab-df-container\">\n",
              "      <div>\n",
              "<style scoped>\n",
              "    .dataframe tbody tr th:only-of-type {\n",
              "        vertical-align: middle;\n",
              "    }\n",
              "\n",
              "    .dataframe tbody tr th {\n",
              "        vertical-align: top;\n",
              "    }\n",
              "\n",
              "    .dataframe thead th {\n",
              "        text-align: right;\n",
              "    }\n",
              "</style>\n",
              "<table border=\"1\" class=\"dataframe\">\n",
              "  <thead>\n",
              "    <tr style=\"text-align: right;\">\n",
              "      <th></th>\n",
              "      <th>gender</th>\n",
              "      <th>NationalITy</th>\n",
              "      <th>PlaceofBirth</th>\n",
              "      <th>StageID</th>\n",
              "      <th>GradeID</th>\n",
              "      <th>SectionID</th>\n",
              "      <th>Topic</th>\n",
              "      <th>Semester</th>\n",
              "      <th>Relation</th>\n",
              "      <th>raisedhands</th>\n",
              "      <th>VisITedResources</th>\n",
              "      <th>AnnouncementsView</th>\n",
              "      <th>Discussion</th>\n",
              "      <th>ParentAnsweringSurvey</th>\n",
              "      <th>ParentschoolSatisfaction</th>\n",
              "      <th>StudentAbsenceDays</th>\n",
              "      <th>Class</th>\n",
              "    </tr>\n",
              "  </thead>\n",
              "  <tbody>\n",
              "    <tr>\n",
              "      <th>326</th>\n",
              "      <td>M</td>\n",
              "      <td>Jordan</td>\n",
              "      <td>Jordan</td>\n",
              "      <td>lowerlevel</td>\n",
              "      <td>G-02</td>\n",
              "      <td>A</td>\n",
              "      <td>French</td>\n",
              "      <td>F</td>\n",
              "      <td>Father</td>\n",
              "      <td>10</td>\n",
              "      <td>15</td>\n",
              "      <td>10</td>\n",
              "      <td>21</td>\n",
              "      <td>No</td>\n",
              "      <td>Bad</td>\n",
              "      <td>Above-7</td>\n",
              "      <td>L</td>\n",
              "    </tr>\n",
              "    <tr>\n",
              "      <th>327</th>\n",
              "      <td>M</td>\n",
              "      <td>Jordan</td>\n",
              "      <td>Jordan</td>\n",
              "      <td>lowerlevel</td>\n",
              "      <td>G-02</td>\n",
              "      <td>A</td>\n",
              "      <td>French</td>\n",
              "      <td>S</td>\n",
              "      <td>Father</td>\n",
              "      <td>30</td>\n",
              "      <td>10</td>\n",
              "      <td>20</td>\n",
              "      <td>5</td>\n",
              "      <td>No</td>\n",
              "      <td>Bad</td>\n",
              "      <td>Above-7</td>\n",
              "      <td>L</td>\n",
              "    </tr>\n",
              "  </tbody>\n",
              "</table>\n",
              "</div>\n",
              "      <button class=\"colab-df-convert\" onclick=\"convertToInteractive('df-bdbdc6be-f653-4774-8927-db77bfe49c15')\"\n",
              "              title=\"Convert this dataframe to an interactive table.\"\n",
              "              style=\"display:none;\">\n",
              "        \n",
              "  <svg xmlns=\"http://www.w3.org/2000/svg\" height=\"24px\"viewBox=\"0 0 24 24\"\n",
              "       width=\"24px\">\n",
              "    <path d=\"M0 0h24v24H0V0z\" fill=\"none\"/>\n",
              "    <path d=\"M18.56 5.44l.94 2.06.94-2.06 2.06-.94-2.06-.94-.94-2.06-.94 2.06-2.06.94zm-11 1L8.5 8.5l.94-2.06 2.06-.94-2.06-.94L8.5 2.5l-.94 2.06-2.06.94zm10 10l.94 2.06.94-2.06 2.06-.94-2.06-.94-.94-2.06-.94 2.06-2.06.94z\"/><path d=\"M17.41 7.96l-1.37-1.37c-.4-.4-.92-.59-1.43-.59-.52 0-1.04.2-1.43.59L10.3 9.45l-7.72 7.72c-.78.78-.78 2.05 0 2.83L4 21.41c.39.39.9.59 1.41.59.51 0 1.02-.2 1.41-.59l7.78-7.78 2.81-2.81c.8-.78.8-2.07 0-2.86zM5.41 20L4 18.59l7.72-7.72 1.47 1.35L5.41 20z\"/>\n",
              "  </svg>\n",
              "      </button>\n",
              "      \n",
              "  <style>\n",
              "    .colab-df-container {\n",
              "      display:flex;\n",
              "      flex-wrap:wrap;\n",
              "      gap: 12px;\n",
              "    }\n",
              "\n",
              "    .colab-df-convert {\n",
              "      background-color: #E8F0FE;\n",
              "      border: none;\n",
              "      border-radius: 50%;\n",
              "      cursor: pointer;\n",
              "      display: none;\n",
              "      fill: #1967D2;\n",
              "      height: 32px;\n",
              "      padding: 0 0 0 0;\n",
              "      width: 32px;\n",
              "    }\n",
              "\n",
              "    .colab-df-convert:hover {\n",
              "      background-color: #E2EBFA;\n",
              "      box-shadow: 0px 1px 2px rgba(60, 64, 67, 0.3), 0px 1px 3px 1px rgba(60, 64, 67, 0.15);\n",
              "      fill: #174EA6;\n",
              "    }\n",
              "\n",
              "    [theme=dark] .colab-df-convert {\n",
              "      background-color: #3B4455;\n",
              "      fill: #D2E3FC;\n",
              "    }\n",
              "\n",
              "    [theme=dark] .colab-df-convert:hover {\n",
              "      background-color: #434B5C;\n",
              "      box-shadow: 0px 1px 3px 1px rgba(0, 0, 0, 0.15);\n",
              "      filter: drop-shadow(0px 1px 2px rgba(0, 0, 0, 0.3));\n",
              "      fill: #FFFFFF;\n",
              "    }\n",
              "  </style>\n",
              "\n",
              "      <script>\n",
              "        const buttonEl =\n",
              "          document.querySelector('#df-bdbdc6be-f653-4774-8927-db77bfe49c15 button.colab-df-convert');\n",
              "        buttonEl.style.display =\n",
              "          google.colab.kernel.accessAllowed ? 'block' : 'none';\n",
              "\n",
              "        async function convertToInteractive(key) {\n",
              "          const element = document.querySelector('#df-bdbdc6be-f653-4774-8927-db77bfe49c15');\n",
              "          const dataTable =\n",
              "            await google.colab.kernel.invokeFunction('convertToInteractive',\n",
              "                                                     [key], {});\n",
              "          if (!dataTable) return;\n",
              "\n",
              "          const docLinkHtml = 'Like what you see? Visit the ' +\n",
              "            '<a target=\"_blank\" href=https://colab.research.google.com/notebooks/data_table.ipynb>data table notebook</a>'\n",
              "            + ' to learn more about interactive tables.';\n",
              "          element.innerHTML = '';\n",
              "          dataTable['output_type'] = 'display_data';\n",
              "          await google.colab.output.renderOutput(dataTable, element);\n",
              "          const docLink = document.createElement('div');\n",
              "          docLink.innerHTML = docLinkHtml;\n",
              "          element.appendChild(docLink);\n",
              "        }\n",
              "      </script>\n",
              "    </div>\n",
              "  </div>\n",
              "  "
            ]
          },
          "metadata": {},
          "execution_count": 6
        }
      ],
      "source": [
        "df[df.duplicated(df.columns)]\n",
        "#No duplicates"
      ]
    },
    {
      "cell_type": "code",
      "execution_count": 7,
      "id": "1b3bf662",
      "metadata": {
        "colab": {
          "base_uri": "https://localhost:8080/"
        },
        "id": "1b3bf662",
        "outputId": "4b12660d-9e0f-4c85-8318-094c39f8531c"
      },
      "outputs": [
        {
          "output_type": "execute_result",
          "data": {
            "text/plain": [
              "array(['KW', 'lebanon', 'Egypt', 'SaudiArabia', 'USA', 'Jordan',\n",
              "       'venzuela', 'Iran', 'Tunis', 'Morocco', 'Syria', 'Palestine',\n",
              "       'Iraq', 'Lybia'], dtype=object)"
            ]
          },
          "metadata": {},
          "execution_count": 7
        }
      ],
      "source": [
        "df['NationalITy'].unique()"
      ]
    },
    {
      "cell_type": "markdown",
      "id": "27314e78",
      "metadata": {
        "id": "27314e78"
      },
      "source": [
        "# Encoding Categorical Features"
      ]
    },
    {
      "cell_type": "markdown",
      "id": "527ddbf5",
      "metadata": {
        "id": "527ddbf5"
      },
      "source": [
        "## One Hot Encoding"
      ]
    },
    {
      "cell_type": "code",
      "execution_count": 8,
      "id": "0a8ee1da",
      "metadata": {
        "id": "0a8ee1da"
      },
      "outputs": [],
      "source": [
        "features1 = ['gender', 'NationalITy', 'PlaceofBirth', 'StageID', 'GradeID',\n",
        "                    'SectionID', 'Topic', 'Semester', 'Relation','ParentAnsweringSurvey',\n",
        "                    'ParentschoolSatisfaction','StudentAbsenceDays','Class']\n",
        "encoded_features = []\n",
        "def encode_it_all(df):\n",
        "    # one-hot encoding\n",
        "    all_encodings = []\n",
        "    encoded_features = []\n",
        "    for feature in features1:\n",
        "        # print(feature)\n",
        "        X = OneHotEncoder().fit_transform(df[feature].values.reshape(-1, 1)).toarray()\n",
        "        cols = [feature + '_' + str(i) for i in range(0, df[feature].nunique())]\n",
        "        encoded_features += cols\n",
        "        tmp_df = pd.DataFrame(X, columns=cols)\n",
        "        tmp_df.index = df.index\n",
        "        all_encodings.append(tmp_df)\n",
        "        \n",
        " \n",
        "    # then let's create a new df with all of these new variables\n",
        "    return(pd.concat([df, *all_encodings], axis=1))\n",
        "\n",
        "one_hot_encoded_df = encode_it_all(df)\n"
      ]
    },
    {
      "cell_type": "code",
      "execution_count": 9,
      "id": "89275ca3",
      "metadata": {
        "id": "89275ca3"
      },
      "outputs": [],
      "source": [
        "one_hot_encoded_df.drop(features1,axis=1,inplace=True)"
      ]
    },
    {
      "cell_type": "code",
      "execution_count": 10,
      "id": "eef9df81",
      "metadata": {
        "colab": {
          "base_uri": "https://localhost:8080/",
          "height": 300
        },
        "id": "eef9df81",
        "outputId": "8f01d11d-3a51-4049-8e6c-7cd94be691a0"
      },
      "outputs": [
        {
          "output_type": "execute_result",
          "data": {
            "text/plain": [
              "   raisedhands  VisITedResources  AnnouncementsView  Discussion  gender_0  \\\n",
              "0           15                16                  2          20       0.0   \n",
              "1           20                20                  3          25       0.0   \n",
              "2           10                 7                  0          30       0.0   \n",
              "3           30                25                  5          35       0.0   \n",
              "4           40                50                 12          50       0.0   \n",
              "\n",
              "   gender_1  NationalITy_0  NationalITy_1  NationalITy_2  NationalITy_3  ...  \\\n",
              "0       1.0            0.0            0.0            0.0            0.0  ...   \n",
              "1       1.0            0.0            0.0            0.0            0.0  ...   \n",
              "2       1.0            0.0            0.0            0.0            0.0  ...   \n",
              "3       1.0            0.0            0.0            0.0            0.0  ...   \n",
              "4       1.0            0.0            0.0            0.0            0.0  ...   \n",
              "\n",
              "   Relation_1  ParentAnsweringSurvey_0  ParentAnsweringSurvey_1  \\\n",
              "0         0.0                      0.0                      1.0   \n",
              "1         0.0                      0.0                      1.0   \n",
              "2         0.0                      1.0                      0.0   \n",
              "3         0.0                      1.0                      0.0   \n",
              "4         0.0                      1.0                      0.0   \n",
              "\n",
              "   ParentschoolSatisfaction_0  ParentschoolSatisfaction_1  \\\n",
              "0                         0.0                         1.0   \n",
              "1                         0.0                         1.0   \n",
              "2                         1.0                         0.0   \n",
              "3                         1.0                         0.0   \n",
              "4                         1.0                         0.0   \n",
              "\n",
              "   StudentAbsenceDays_0  StudentAbsenceDays_1  Class_0  Class_1  Class_2  \n",
              "0                   0.0                   1.0      0.0      0.0      1.0  \n",
              "1                   0.0                   1.0      0.0      0.0      1.0  \n",
              "2                   1.0                   0.0      0.0      1.0      0.0  \n",
              "3                   1.0                   0.0      0.0      1.0      0.0  \n",
              "4                   1.0                   0.0      0.0      0.0      1.0  \n",
              "\n",
              "[5 rows x 75 columns]"
            ],
            "text/html": [
              "\n",
              "  <div id=\"df-b3a53487-833c-44e6-985a-e1ec22a035d8\">\n",
              "    <div class=\"colab-df-container\">\n",
              "      <div>\n",
              "<style scoped>\n",
              "    .dataframe tbody tr th:only-of-type {\n",
              "        vertical-align: middle;\n",
              "    }\n",
              "\n",
              "    .dataframe tbody tr th {\n",
              "        vertical-align: top;\n",
              "    }\n",
              "\n",
              "    .dataframe thead th {\n",
              "        text-align: right;\n",
              "    }\n",
              "</style>\n",
              "<table border=\"1\" class=\"dataframe\">\n",
              "  <thead>\n",
              "    <tr style=\"text-align: right;\">\n",
              "      <th></th>\n",
              "      <th>raisedhands</th>\n",
              "      <th>VisITedResources</th>\n",
              "      <th>AnnouncementsView</th>\n",
              "      <th>Discussion</th>\n",
              "      <th>gender_0</th>\n",
              "      <th>gender_1</th>\n",
              "      <th>NationalITy_0</th>\n",
              "      <th>NationalITy_1</th>\n",
              "      <th>NationalITy_2</th>\n",
              "      <th>NationalITy_3</th>\n",
              "      <th>...</th>\n",
              "      <th>Relation_1</th>\n",
              "      <th>ParentAnsweringSurvey_0</th>\n",
              "      <th>ParentAnsweringSurvey_1</th>\n",
              "      <th>ParentschoolSatisfaction_0</th>\n",
              "      <th>ParentschoolSatisfaction_1</th>\n",
              "      <th>StudentAbsenceDays_0</th>\n",
              "      <th>StudentAbsenceDays_1</th>\n",
              "      <th>Class_0</th>\n",
              "      <th>Class_1</th>\n",
              "      <th>Class_2</th>\n",
              "    </tr>\n",
              "  </thead>\n",
              "  <tbody>\n",
              "    <tr>\n",
              "      <th>0</th>\n",
              "      <td>15</td>\n",
              "      <td>16</td>\n",
              "      <td>2</td>\n",
              "      <td>20</td>\n",
              "      <td>0.0</td>\n",
              "      <td>1.0</td>\n",
              "      <td>0.0</td>\n",
              "      <td>0.0</td>\n",
              "      <td>0.0</td>\n",
              "      <td>0.0</td>\n",
              "      <td>...</td>\n",
              "      <td>0.0</td>\n",
              "      <td>0.0</td>\n",
              "      <td>1.0</td>\n",
              "      <td>0.0</td>\n",
              "      <td>1.0</td>\n",
              "      <td>0.0</td>\n",
              "      <td>1.0</td>\n",
              "      <td>0.0</td>\n",
              "      <td>0.0</td>\n",
              "      <td>1.0</td>\n",
              "    </tr>\n",
              "    <tr>\n",
              "      <th>1</th>\n",
              "      <td>20</td>\n",
              "      <td>20</td>\n",
              "      <td>3</td>\n",
              "      <td>25</td>\n",
              "      <td>0.0</td>\n",
              "      <td>1.0</td>\n",
              "      <td>0.0</td>\n",
              "      <td>0.0</td>\n",
              "      <td>0.0</td>\n",
              "      <td>0.0</td>\n",
              "      <td>...</td>\n",
              "      <td>0.0</td>\n",
              "      <td>0.0</td>\n",
              "      <td>1.0</td>\n",
              "      <td>0.0</td>\n",
              "      <td>1.0</td>\n",
              "      <td>0.0</td>\n",
              "      <td>1.0</td>\n",
              "      <td>0.0</td>\n",
              "      <td>0.0</td>\n",
              "      <td>1.0</td>\n",
              "    </tr>\n",
              "    <tr>\n",
              "      <th>2</th>\n",
              "      <td>10</td>\n",
              "      <td>7</td>\n",
              "      <td>0</td>\n",
              "      <td>30</td>\n",
              "      <td>0.0</td>\n",
              "      <td>1.0</td>\n",
              "      <td>0.0</td>\n",
              "      <td>0.0</td>\n",
              "      <td>0.0</td>\n",
              "      <td>0.0</td>\n",
              "      <td>...</td>\n",
              "      <td>0.0</td>\n",
              "      <td>1.0</td>\n",
              "      <td>0.0</td>\n",
              "      <td>1.0</td>\n",
              "      <td>0.0</td>\n",
              "      <td>1.0</td>\n",
              "      <td>0.0</td>\n",
              "      <td>0.0</td>\n",
              "      <td>1.0</td>\n",
              "      <td>0.0</td>\n",
              "    </tr>\n",
              "    <tr>\n",
              "      <th>3</th>\n",
              "      <td>30</td>\n",
              "      <td>25</td>\n",
              "      <td>5</td>\n",
              "      <td>35</td>\n",
              "      <td>0.0</td>\n",
              "      <td>1.0</td>\n",
              "      <td>0.0</td>\n",
              "      <td>0.0</td>\n",
              "      <td>0.0</td>\n",
              "      <td>0.0</td>\n",
              "      <td>...</td>\n",
              "      <td>0.0</td>\n",
              "      <td>1.0</td>\n",
              "      <td>0.0</td>\n",
              "      <td>1.0</td>\n",
              "      <td>0.0</td>\n",
              "      <td>1.0</td>\n",
              "      <td>0.0</td>\n",
              "      <td>0.0</td>\n",
              "      <td>1.0</td>\n",
              "      <td>0.0</td>\n",
              "    </tr>\n",
              "    <tr>\n",
              "      <th>4</th>\n",
              "      <td>40</td>\n",
              "      <td>50</td>\n",
              "      <td>12</td>\n",
              "      <td>50</td>\n",
              "      <td>0.0</td>\n",
              "      <td>1.0</td>\n",
              "      <td>0.0</td>\n",
              "      <td>0.0</td>\n",
              "      <td>0.0</td>\n",
              "      <td>0.0</td>\n",
              "      <td>...</td>\n",
              "      <td>0.0</td>\n",
              "      <td>1.0</td>\n",
              "      <td>0.0</td>\n",
              "      <td>1.0</td>\n",
              "      <td>0.0</td>\n",
              "      <td>1.0</td>\n",
              "      <td>0.0</td>\n",
              "      <td>0.0</td>\n",
              "      <td>0.0</td>\n",
              "      <td>1.0</td>\n",
              "    </tr>\n",
              "  </tbody>\n",
              "</table>\n",
              "<p>5 rows × 75 columns</p>\n",
              "</div>\n",
              "      <button class=\"colab-df-convert\" onclick=\"convertToInteractive('df-b3a53487-833c-44e6-985a-e1ec22a035d8')\"\n",
              "              title=\"Convert this dataframe to an interactive table.\"\n",
              "              style=\"display:none;\">\n",
              "        \n",
              "  <svg xmlns=\"http://www.w3.org/2000/svg\" height=\"24px\"viewBox=\"0 0 24 24\"\n",
              "       width=\"24px\">\n",
              "    <path d=\"M0 0h24v24H0V0z\" fill=\"none\"/>\n",
              "    <path d=\"M18.56 5.44l.94 2.06.94-2.06 2.06-.94-2.06-.94-.94-2.06-.94 2.06-2.06.94zm-11 1L8.5 8.5l.94-2.06 2.06-.94-2.06-.94L8.5 2.5l-.94 2.06-2.06.94zm10 10l.94 2.06.94-2.06 2.06-.94-2.06-.94-.94-2.06-.94 2.06-2.06.94z\"/><path d=\"M17.41 7.96l-1.37-1.37c-.4-.4-.92-.59-1.43-.59-.52 0-1.04.2-1.43.59L10.3 9.45l-7.72 7.72c-.78.78-.78 2.05 0 2.83L4 21.41c.39.39.9.59 1.41.59.51 0 1.02-.2 1.41-.59l7.78-7.78 2.81-2.81c.8-.78.8-2.07 0-2.86zM5.41 20L4 18.59l7.72-7.72 1.47 1.35L5.41 20z\"/>\n",
              "  </svg>\n",
              "      </button>\n",
              "      \n",
              "  <style>\n",
              "    .colab-df-container {\n",
              "      display:flex;\n",
              "      flex-wrap:wrap;\n",
              "      gap: 12px;\n",
              "    }\n",
              "\n",
              "    .colab-df-convert {\n",
              "      background-color: #E8F0FE;\n",
              "      border: none;\n",
              "      border-radius: 50%;\n",
              "      cursor: pointer;\n",
              "      display: none;\n",
              "      fill: #1967D2;\n",
              "      height: 32px;\n",
              "      padding: 0 0 0 0;\n",
              "      width: 32px;\n",
              "    }\n",
              "\n",
              "    .colab-df-convert:hover {\n",
              "      background-color: #E2EBFA;\n",
              "      box-shadow: 0px 1px 2px rgba(60, 64, 67, 0.3), 0px 1px 3px 1px rgba(60, 64, 67, 0.15);\n",
              "      fill: #174EA6;\n",
              "    }\n",
              "\n",
              "    [theme=dark] .colab-df-convert {\n",
              "      background-color: #3B4455;\n",
              "      fill: #D2E3FC;\n",
              "    }\n",
              "\n",
              "    [theme=dark] .colab-df-convert:hover {\n",
              "      background-color: #434B5C;\n",
              "      box-shadow: 0px 1px 3px 1px rgba(0, 0, 0, 0.15);\n",
              "      filter: drop-shadow(0px 1px 2px rgba(0, 0, 0, 0.3));\n",
              "      fill: #FFFFFF;\n",
              "    }\n",
              "  </style>\n",
              "\n",
              "      <script>\n",
              "        const buttonEl =\n",
              "          document.querySelector('#df-b3a53487-833c-44e6-985a-e1ec22a035d8 button.colab-df-convert');\n",
              "        buttonEl.style.display =\n",
              "          google.colab.kernel.accessAllowed ? 'block' : 'none';\n",
              "\n",
              "        async function convertToInteractive(key) {\n",
              "          const element = document.querySelector('#df-b3a53487-833c-44e6-985a-e1ec22a035d8');\n",
              "          const dataTable =\n",
              "            await google.colab.kernel.invokeFunction('convertToInteractive',\n",
              "                                                     [key], {});\n",
              "          if (!dataTable) return;\n",
              "\n",
              "          const docLinkHtml = 'Like what you see? Visit the ' +\n",
              "            '<a target=\"_blank\" href=https://colab.research.google.com/notebooks/data_table.ipynb>data table notebook</a>'\n",
              "            + ' to learn more about interactive tables.';\n",
              "          element.innerHTML = '';\n",
              "          dataTable['output_type'] = 'display_data';\n",
              "          await google.colab.output.renderOutput(dataTable, element);\n",
              "          const docLink = document.createElement('div');\n",
              "          docLink.innerHTML = docLinkHtml;\n",
              "          element.appendChild(docLink);\n",
              "        }\n",
              "      </script>\n",
              "    </div>\n",
              "  </div>\n",
              "  "
            ]
          },
          "metadata": {},
          "execution_count": 10
        }
      ],
      "source": [
        "one_hot_encoded_df.head()"
      ]
    },
    {
      "cell_type": "markdown",
      "id": "69da12b3",
      "metadata": {
        "id": "69da12b3"
      },
      "source": [
        "# Base Model"
      ]
    },
    {
      "cell_type": "code",
      "execution_count": 11,
      "id": "78b934d8",
      "metadata": {
        "id": "78b934d8"
      },
      "outputs": [],
      "source": [
        "X = StandardScaler().fit_transform(one_hot_encoded_df[one_hot_encoded_df.columns[:-3]])\n",
        "y = df.Class\n",
        "X_train, X_test, y_train, y_test = train_test_split(X, y, test_size=0.25, random_state=42)\n"
      ]
    },
    {
      "cell_type": "markdown",
      "id": "c8261681",
      "metadata": {
        "id": "c8261681"
      },
      "source": [
        "## Logistic Regression"
      ]
    },
    {
      "cell_type": "code",
      "execution_count": 12,
      "id": "8c1f0970",
      "metadata": {
        "colab": {
          "base_uri": "https://localhost:8080/"
        },
        "id": "8c1f0970",
        "outputId": "c0be05e9-f239-4606-e479-a2d4ac62b855"
      },
      "outputs": [
        {
          "output_type": "stream",
          "name": "stdout",
          "text": [
            "10 fold cross validation results\n",
            "Accuracy: 0.72 (+/- 0.05)\n"
          ]
        }
      ],
      "source": [
        "Logistic_Regression = LogisticRegression()\n",
        "Logistic_Regression.fit(X_train, y_train)\n",
        "Logistic_Regression_Scores = cross_validate(LogisticRegression(), X_train, y_train,scoring='accuracy', cv=10)\n",
        "print(\"10 fold cross validation results\")\n",
        "print(\"Accuracy: %0.2f (+/- %0.2f)\" % (Logistic_Regression_Scores[\"test_score\"].mean(),Logistic_Regression_Scores[\"test_score\"].std()))\n"
      ]
    },
    {
      "cell_type": "markdown",
      "id": "937bb29c",
      "metadata": {
        "id": "937bb29c"
      },
      "source": [
        "## Support Vector Machine"
      ]
    },
    {
      "cell_type": "code",
      "execution_count": 13,
      "id": "bfe5973b",
      "metadata": {
        "colab": {
          "base_uri": "https://localhost:8080/"
        },
        "id": "bfe5973b",
        "outputId": "c6b724ad-976e-48d2-e960-784268c6bd42"
      },
      "outputs": [
        {
          "output_type": "stream",
          "name": "stdout",
          "text": [
            "10 fold cross validation results\n",
            "Accuracy: 0.72 (+/- 0.08)\n"
          ]
        }
      ],
      "source": [
        "Support_Vector_Machine = svm.SVC(kernel='rbf',gamma='scale',C=10,class_weight='balanced')\n",
        "Support_Vector_Machine.fit(X_train, y_train)\n",
        "SVM_Scores = cross_validate(Support_Vector_Machine, X_train, y_train,scoring='accuracy',cv=10)\n",
        "print(\"10 fold cross validation results\")\n",
        "print(\"Accuracy: %0.2f (+/- %0.2f)\" % (SVM_Scores[\"test_score\"].mean(),SVM_Scores[\"test_score\"].std()))"
      ]
    },
    {
      "cell_type": "markdown",
      "id": "803e1dfe",
      "metadata": {
        "id": "803e1dfe"
      },
      "source": [
        "## K-Nearest Neighbour"
      ]
    },
    {
      "cell_type": "code",
      "execution_count": 14,
      "id": "0df7f3e5",
      "metadata": {
        "colab": {
          "base_uri": "https://localhost:8080/"
        },
        "id": "0df7f3e5",
        "outputId": "7655da31-ded7-4a0f-a565-4110b5e1b8bc"
      },
      "outputs": [
        {
          "output_type": "stream",
          "name": "stdout",
          "text": [
            "10 fold cross validation results\n",
            "Accuracy: 0.66 (+/- 0.06)\n"
          ]
        }
      ],
      "source": [
        "KNN = KNeighborsClassifier(n_neighbors=5,weights='distance',metric='manhattan')\n",
        "KNN.fit(X_train, y_train)\n",
        "KNN_Scores = cross_validate(KNN, X_train, y_train, scoring='accuracy', cv=10,return_train_score=True)\n",
        "print(\"10 fold cross validation results\")\n",
        "print(\"Accuracy: %0.2f (+/- %0.2f)\" % (KNN_Scores[\"test_score\"].mean(),KNN_Scores[\"test_score\"].std()))"
      ]
    },
    {
      "cell_type": "markdown",
      "id": "89ddc576",
      "metadata": {
        "id": "89ddc576"
      },
      "source": [
        "## Gaussian Naive Bayes"
      ]
    },
    {
      "cell_type": "code",
      "execution_count": 15,
      "id": "ec402294",
      "metadata": {
        "colab": {
          "base_uri": "https://localhost:8080/"
        },
        "id": "ec402294",
        "outputId": "077e0db6-643a-419b-8468-8df22294853e"
      },
      "outputs": [
        {
          "output_type": "stream",
          "name": "stdout",
          "text": [
            "10 fold cross validation results\n",
            "Accuracy: 0.37 (+/- 0.04)\n"
          ]
        }
      ],
      "source": [
        "Gaussian_NB = GaussianNB()\n",
        "Gaussian_NB.fit(X_train, y_train)\n",
        "Gaussian_Scores = cross_validate(Gaussian_NB,X_train, y_train,scoring='accuracy', cv=10)\n",
        "print(\"10 fold cross validation results\")\n",
        "print(\"Accuracy: %0.2f (+/- %0.2f)\" % (Gaussian_Scores[\"test_score\"].mean(),Gaussian_Scores[\"test_score\"].std()))"
      ]
    },
    {
      "cell_type": "markdown",
      "id": "1d8b619a",
      "metadata": {
        "id": "1d8b619a"
      },
      "source": [
        "## Random Forest"
      ]
    },
    {
      "cell_type": "code",
      "execution_count": 16,
      "id": "8cac416a",
      "metadata": {
        "colab": {
          "base_uri": "https://localhost:8080/"
        },
        "id": "8cac416a",
        "outputId": "bf356c91-7df1-4fdd-8130-4d2d5d1b88ce"
      },
      "outputs": [
        {
          "output_type": "stream",
          "name": "stdout",
          "text": [
            "10 fold cross validation results\n",
            "Accuracy: 0.78 (+/- 0.07)\n"
          ]
        }
      ],
      "source": [
        "Random_Forest = RandomForestClassifier(criterion='gini',n_estimators=80)\n",
        "Random_Forest.fit(X_train, y_train)\n",
        "Random_Forest_Scores = cross_validate(RandomForestClassifier(), X_train, y_train, cv=10)\n",
        "print(\"10 fold cross validation results\")\n",
        "print(\"Accuracy: %0.2f (+/- %0.2f)\" % (Random_Forest_Scores[\"test_score\"].mean(),Random_Forest_Scores[\"test_score\"].std()))"
      ]
    },
    {
      "cell_type": "code",
      "execution_count": 17,
      "id": "de25c785",
      "metadata": {
        "id": "de25c785"
      },
      "outputs": [],
      "source": [
        "X_test = pd.DataFrame(X_test)\n",
        "X_test.columns = one_hot_encoded_df.columns[:-3]"
      ]
    },
    {
      "cell_type": "markdown",
      "id": "923de2a6",
      "metadata": {
        "id": "923de2a6"
      },
      "source": [
        "# Feature Selection\n",
        "\n",
        "To improve on our models accuracy, we will use feature selection. We now continuosly add features with accordance to their mutual information gain until model perfomance starts to flatten out in order to get a cut off point."
      ]
    },
    {
      "cell_type": "code",
      "execution_count": 18,
      "id": "ef0a58dc",
      "metadata": {
        "id": "ef0a58dc"
      },
      "outputs": [],
      "source": [
        "features=np.array([feature for feature in X_test.columns])\n",
        "information_gain=mutual_info_classif(X_test, y_test,n_neighbors=3)\n",
        "idx=np.argsort(information_gain)[::-1]\n",
        "information_gain=information_gain[idx]\n",
        "features=features[idx]"
      ]
    },
    {
      "cell_type": "code",
      "execution_count": 19,
      "id": "ddeedfb7",
      "metadata": {
        "colab": {
          "base_uri": "https://localhost:8080/",
          "height": 337
        },
        "id": "ddeedfb7",
        "outputId": "1efc06a4-f2fe-4d5a-b542-c29f42570f22"
      },
      "outputs": [
        {
          "output_type": "stream",
          "name": "stdout",
          "text": [
            "Number of features kept: 5\n",
            "Number of features: removed 67\n",
            "Accuracy: 0.77 (+/- 0.13)\n"
          ]
        },
        {
          "output_type": "display_data",
          "data": {
            "text/plain": [
              "<Figure size 432x288 with 1 Axes>"
            ],
            "image/png": "[encoded data removed]"
          },
          "metadata": {
            "needs_background": "light"
          }
        }
      ],
      "source": [
        "number_of_features=np.arange(1,len(features)+1)\n",
        "accuracy=np.zeros(len(features))\n",
        "std=np.zeros(len(features))\n",
        "\n",
        "for i in range(1,len(features)):\n",
        "    x_norm_pruned=X_test[(features[:i])]\n",
        "    support_vector_machine = svm.SVC(kernel=\"rbf\",C=6)\n",
        "    support_vector_machine.fit(x_norm_pruned, y_test)\n",
        "    scores = cross_validate(support_vector_machine, x_norm_pruned, y_test, scoring=\"accuracy\",cv=10)\n",
        "    accuracy[i]=scores[\"test_score\"].mean()\n",
        "    std[i]=scores[\"test_score\"].std()\n",
        "    \n",
        "index=np.argsort(accuracy)\n",
        "print(\"Number of features kept:\",index[-1])\n",
        "print(\"Number of features: removed\",len(idx)-index[-1])\n",
        "print(\"Accuracy: %0.2f (+/- %0.2f)\" % (accuracy[index[-1]],std[-1]))\n",
        "plt.figure()\n",
        "plt.grid(True)\n",
        "# plt.rc('xtick',labelsize=8)\n",
        "# plt.rc('ytick',labelsize=8)\n",
        "plt.xlabel(\"Number of features\")\n",
        "plt.ylabel(\"% Accuracy\")\n",
        "\n",
        "plt.scatter(number_of_features,accuracy*100,c=\"green\")\n",
        "plt.plot(number_of_features,accuracy*100,c=\"green\")\n",
        "plt.vlines(x=55,ymin=0,ymax=95,linestyles=\"dashed\",color=\"red\")\n",
        "plt.savefig(\"accuracy_graph.png\")\n",
        "plt.show()"
      ]
    },
    {
      "cell_type": "markdown",
      "id": "c79fc3ce",
      "metadata": {
        "id": "c79fc3ce"
      },
      "source": [
        "## Best Features"
      ]
    },
    {
      "cell_type": "code",
      "execution_count": 20,
      "id": "30a49bee",
      "metadata": {
        "scrolled": true,
        "colab": {
          "base_uri": "https://localhost:8080/"
        },
        "id": "30a49bee",
        "outputId": "f62a9125-a712-44cf-cb5b-904e7917e233"
      },
      "outputs": [
        {
          "output_type": "stream",
          "name": "stdout",
          "text": [
            "StudentAbsenceDays_1 , mutual information : 0.39722768181567103\n",
            "StudentAbsenceDays_0 , mutual information : 0.3746888788117617\n",
            "VisITedResources , mutual information : 0.3609673007920655\n",
            "raisedhands , mutual information : 0.2935383707437482\n",
            "AnnouncementsView , mutual information : 0.20226389544581136\n"
          ]
        }
      ],
      "source": [
        "idx=np.argsort(accuracy)[::-1]\n",
        "optimal_features=(features[0:idx[0]])\n",
        "for i in range(len(optimal_features)):\n",
        "    print(optimal_features[i],\",\",\"mutual information :\",information_gain[i])"
      ]
    },
    {
      "cell_type": "code",
      "execution_count": 21,
      "id": "ef3673b3",
      "metadata": {
        "colab": {
          "base_uri": "https://localhost:8080/"
        },
        "id": "ef3673b3",
        "outputId": "d1e2a2fa-7b07-49a9-a00a-0e9975bbe773"
      },
      "outputs": [
        {
          "output_type": "execute_result",
          "data": {
            "text/plain": [
              "array(['A', 'B', 'C'], dtype=object)"
            ]
          },
          "metadata": {},
          "execution_count": 21
        }
      ],
      "source": [
        "df['SectionID'].unique()"
      ]
    },
    {
      "cell_type": "code",
      "execution_count": 22,
      "id": "a325742b",
      "metadata": {
        "colab": {
          "base_uri": "https://localhost:8080/"
        },
        "id": "a325742b",
        "outputId": "a27f9ac9-0a24-4d49-9051-36cec22f657f"
      },
      "outputs": [
        {
          "output_type": "execute_result",
          "data": {
            "text/plain": [
              "array(['KuwaIT', 'lebanon', 'Egypt', 'SaudiArabia', 'USA', 'Jordan',\n",
              "       'venzuela', 'Iran', 'Tunis', 'Morocco', 'Syria', 'Iraq',\n",
              "       'Palestine', 'Lybia'], dtype=object)"
            ]
          },
          "metadata": {},
          "execution_count": 22
        }
      ],
      "source": [
        "df['PlaceofBirth'].unique()"
      ]
    },
    {
      "cell_type": "code",
      "execution_count": 23,
      "id": "d44e8a5c",
      "metadata": {
        "colab": {
          "base_uri": "https://localhost:8080/"
        },
        "id": "d44e8a5c",
        "outputId": "86f0fc22-3fae-4c55-8cce-6bc718e9643e"
      },
      "outputs": [
        {
          "output_type": "execute_result",
          "data": {
            "text/plain": [
              "array(['KW', 'lebanon', 'Egypt', 'SaudiArabia', 'USA', 'Jordan',\n",
              "       'venzuela', 'Iran', 'Tunis', 'Morocco', 'Syria', 'Palestine',\n",
              "       'Iraq', 'Lybia'], dtype=object)"
            ]
          },
          "metadata": {},
          "execution_count": 23
        }
      ],
      "source": [
        "df['NationalITy'].unique()"
      ]
    },
    {
      "cell_type": "code",
      "execution_count": 24,
      "id": "d169a82e",
      "metadata": {
        "colab": {
          "base_uri": "https://localhost:8080/"
        },
        "id": "d169a82e",
        "outputId": "a6d37eee-05b3-40ca-9bbc-8481d8705d2b"
      },
      "outputs": [
        {
          "output_type": "execute_result",
          "data": {
            "text/plain": [
              "array(['IT', 'Math', 'Arabic', 'Science', 'English', 'Quran', 'Spanish',\n",
              "       'French', 'History', 'Biology', 'Chemistry', 'Geology'],\n",
              "      dtype=object)"
            ]
          },
          "metadata": {},
          "execution_count": 24
        }
      ],
      "source": [
        "df['Topic'].unique()"
      ]
    },
    {
      "cell_type": "code",
      "execution_count": 25,
      "id": "7cdca212",
      "metadata": {
        "colab": {
          "base_uri": "https://localhost:8080/"
        },
        "id": "7cdca212",
        "outputId": "1105d44e-648f-48f7-c0ef-dec8d7770e02"
      },
      "outputs": [
        {
          "output_type": "execute_result",
          "data": {
            "text/plain": [
              "array(['Yes', 'No'], dtype=object)"
            ]
          },
          "metadata": {},
          "execution_count": 25
        }
      ],
      "source": [
        "df['ParentAnsweringSurvey'].unique()"
      ]
    },
    {
      "cell_type": "code",
      "execution_count": 26,
      "id": "55d9b66a",
      "metadata": {
        "scrolled": true,
        "colab": {
          "base_uri": "https://localhost:8080/",
          "height": 293
        },
        "id": "55d9b66a",
        "outputId": "ed792ac4-6d2e-4d07-c154-93db24bdafe8"
      },
      "outputs": [
        {
          "output_type": "display_data",
          "data": {
            "text/plain": [
              "<Figure size 432x288 with 1 Axes>"
            ],
            "image/png": "[encoded data removed]"
          },
          "metadata": {
            "needs_background": "light"
          }
        }
      ],
      "source": [
        "df_gb = df.groupby(['ParentAnsweringSurvey','Class']).size().unstack(level=1)\n",
        "df_gb.plot(kind='bar')\n",
        "plt.savefig(\"ParentAnsweringSurvey.png\")"
      ]
    },
    {
      "cell_type": "code",
      "execution_count": 27,
      "id": "3a28cea3",
      "metadata": {
        "colab": {
          "base_uri": "https://localhost:8080/",
          "height": 285
        },
        "id": "3a28cea3",
        "outputId": "cf9b955b-b0e5-483e-de43-0ebe7885e008"
      },
      "outputs": [
        {
          "output_type": "display_data",
          "data": {
            "text/plain": [
              "<Figure size 432x288 with 1 Axes>"
            ],
            "image/png": "[encoded data removed]"
          },
          "metadata": {}
        }
      ],
      "source": [
        "sns.set_theme(style=\"whitegrid\")\n",
        "ax = sns.boxplot(x=\"Class\", y=\"VisITedResources\", data=df)\n",
        "plt.savefig(\"Visited_Resources.png\")"
      ]
    },
    {
      "cell_type": "code",
      "execution_count": 28,
      "id": "841f6a38",
      "metadata": {
        "colab": {
          "base_uri": "https://localhost:8080/",
          "height": 285
        },
        "id": "841f6a38",
        "outputId": "6881e861-07ce-40f5-8a40-9f57f59c1bb2"
      },
      "outputs": [
        {
          "output_type": "display_data",
          "data": {
            "text/plain": [
              "<Figure size 432x288 with 1 Axes>"
            ],
            "image/png": "[encoded data removed]"
          },
          "metadata": {}
        }
      ],
      "source": [
        "sns.set_theme(style=\"whitegrid\")\n",
        "ax = sns.boxplot(x=\"Class\", y=\"raisedhands\", data=df)\n",
        "plt.savefig(\"Visited_Resources.png\")"
      ]
    },
    {
      "cell_type": "code",
      "execution_count": 29,
      "id": "da8ca172",
      "metadata": {
        "colab": {
          "base_uri": "https://localhost:8080/",
          "height": 304
        },
        "id": "da8ca172",
        "outputId": "8d2e4498-8500-428d-ec86-899e2052df61"
      },
      "outputs": [
        {
          "output_type": "display_data",
          "data": {
            "text/plain": [
              "<Figure size 432x288 with 1 Axes>"
            ],
            "image/png": "[encoded data removed]"
          },
          "metadata": {}
        }
      ],
      "source": [
        "df_ps = df.groupby(['ParentschoolSatisfaction','Class']).size().unstack(level=1)\n",
        "df_ps.plot(kind='bar')\n",
        "plt.savefig(\"ParentSatisfactonSurvey.png\")"
      ]
    },
    {
      "cell_type": "code",
      "execution_count": 30,
      "id": "e26411b5",
      "metadata": {
        "colab": {
          "base_uri": "https://localhost:8080/",
          "height": 285
        },
        "id": "e26411b5",
        "outputId": "c08db314-1db9-4edd-dcfe-d634177f4130"
      },
      "outputs": [
        {
          "output_type": "display_data",
          "data": {
            "text/plain": [
              "<Figure size 432x288 with 1 Axes>"
            ],
            "image/png": "[encoded data removed]"
          },
          "metadata": {}
        }
      ],
      "source": [
        "rh = sns.boxplot(x=\"Class\", y=\"raisedhands\", data=df)\n",
        "plt.savefig(\"RaisedHands.png\")"
      ]
    },
    {
      "cell_type": "markdown",
      "id": "6521e59b",
      "metadata": {
        "id": "6521e59b"
      },
      "source": [
        "# Modelling and Accuracy Analysis"
      ]
    },
    {
      "cell_type": "code",
      "execution_count": 31,
      "id": "ec1c7bf7",
      "metadata": {
        "id": "ec1c7bf7"
      },
      "outputs": [],
      "source": [
        "Xnew = StandardScaler().fit_transform(one_hot_encoded_df[optimal_features])\n",
        "ynew = df.Class\n",
        "X_Train, X_Test, y_Train, y_Test = train_test_split(Xnew, ynew, test_size=0.25, random_state=42)"
      ]
    },
    {
      "cell_type": "code",
      "execution_count": 32,
      "id": "f8232aae",
      "metadata": {
        "id": "f8232aae"
      },
      "outputs": [],
      "source": [
        "def Confusion_Matrix(model,name):\n",
        "    model.fit(X_Test, y_Test)\n",
        "    predictions = cross_val_predict(model,X_Test,y_Test,cv=10)\n",
        "    cm = confusion_matrix(y_Test, predictions, labels=model.classes_)\n",
        "    disp = ConfusionMatrixDisplay(confusion_matrix=cm,display_labels=model.classes_)\n",
        "    disp.plot()\n",
        "    plt.savefig(name+\".png\",cmap=\"gray\")\n",
        "    plt.show()"
      ]
    },
    {
      "cell_type": "code",
      "execution_count": 33,
      "id": "a2197c56",
      "metadata": {
        "id": "a2197c56"
      },
      "outputs": [],
      "source": [
        "def numeric_metrics(model):\n",
        "    scores = cross_validate(model, X_Test, y_Test, scoring=[\"accuracy\",\"precision_macro\",\"recall_macro\",\"f1_macro\"],cv=10)\n",
        "    accuracy_mean,accuracy_std=(scores[\"test_accuracy\"].mean()*100,100*scores[\"test_accuracy\"].std())\n",
        "    recall_mean,recall_std=(scores[\"test_recall_macro\"].mean()*100,100*scores[\"test_recall_macro\"].std())\n",
        "    precision_mean,precision_std=(scores[\"test_precision_macro\"].mean()*100,100*scores[\"test_precision_macro\"].std())\n",
        "    f1_mean, f1_std = (scores[\"test_f1_macro\"].mean()*100, scores[\"test_f1_macro\"].std()*100)\n",
        "    print(\"Accuracy: %0.2f (+/- %0.2f)\" % (accuracy_mean,accuracy_std))\n",
        "    print(\"Recall: %0.2f (+/- %0.2f)\" % (recall_mean,recall_std))\n",
        "    print(\"Precision: %0.2f (+/- %0.2f)\" % (precision_mean,precision_std))\n",
        "    print(\"F1 Score: %0.2f (+/- %0.2f)\" % (f1_mean,f1_std))\n",
        "    print(\"Fitting time :\",scores[\"fit_time\"].mean())"
      ]
    },
    {
      "cell_type": "markdown",
      "id": "2a36c9ba",
      "metadata": {
        "id": "2a36c9ba"
      },
      "source": [
        "## Random Forest"
      ]
    },
    {
      "cell_type": "code",
      "execution_count": 34,
      "id": "8d2b0d8c",
      "metadata": {
        "colab": {
          "base_uri": "https://localhost:8080/",
          "height": 372
        },
        "id": "8d2b0d8c",
        "outputId": "e2ace519-8c4f-4d48-9198-df34631459ef"
      },
      "outputs": [
        {
          "output_type": "stream",
          "name": "stdout",
          "text": [
            "Accuracy: 73.33 (+/- 7.26)\n",
            "Recall: 73.67 (+/- 10.12)\n",
            "Precision: 75.30 (+/- 11.57)\n",
            "F1 Score: 71.78 (+/- 10.00)\n",
            "Fitting time : 0.10033905506134033\n"
          ]
        },
        {
          "output_type": "display_data",
          "data": {
            "text/plain": [
              "<Figure size 432x288 with 2 Axes>"
            ],
            "image/png": "[encoded data removed]"
          },
          "metadata": {}
        }
      ],
      "source": [
        "numeric_metrics(Random_Forest)\n",
        "Confusion_Matrix(Random_Forest,\"RandomForest\")"
      ]
    },
    {
      "cell_type": "markdown",
      "id": "4a7da523",
      "metadata": {
        "id": "4a7da523"
      },
      "source": [
        "## K-Nearest Neighbour"
      ]
    },
    {
      "cell_type": "code",
      "execution_count": 35,
      "id": "57c38d43",
      "metadata": {
        "colab": {
          "base_uri": "https://localhost:8080/",
          "height": 372
        },
        "id": "57c38d43",
        "outputId": "58a9e70b-df2c-4604-a8d4-1cef66c0aebd"
      },
      "outputs": [
        {
          "output_type": "stream",
          "name": "stdout",
          "text": [
            "Accuracy: 72.50 (+/- 10.57)\n",
            "Recall: 72.44 (+/- 12.13)\n",
            "Precision: 71.29 (+/- 14.40)\n",
            "F1 Score: 70.69 (+/- 12.77)\n",
            "Fitting time : 0.000912165641784668\n"
          ]
        },
        {
          "output_type": "display_data",
          "data": {
            "text/plain": [
              "<Figure size 432x288 with 2 Axes>"
            ],
            "image/png": "[encoded data removed]"
          },
          "metadata": {}
        }
      ],
      "source": [
        "numeric_metrics(KNN)\n",
        "Confusion_Matrix(KNN,\"KNN\")"
      ]
    },
    {
      "cell_type": "markdown",
      "id": "048e7587",
      "metadata": {
        "id": "048e7587"
      },
      "source": [
        "## Support Vector Machine"
      ]
    },
    {
      "cell_type": "code",
      "execution_count": 36,
      "id": "1244d5a8",
      "metadata": {
        "colab": {
          "base_uri": "https://localhost:8080/",
          "height": 372
        },
        "id": "1244d5a8",
        "outputId": "d1e94a60-7929-40bc-9810-3b9dda107819"
      },
      "outputs": [
        {
          "output_type": "stream",
          "name": "stdout",
          "text": [
            "Accuracy: 72.50 (+/- 6.51)\n",
            "Recall: 77.50 (+/- 7.27)\n",
            "Precision: 75.83 (+/- 7.26)\n",
            "F1 Score: 73.05 (+/- 7.46)\n",
            "Fitting time : 0.001811814308166504\n"
          ]
        },
        {
          "output_type": "display_data",
          "data": {
            "text/plain": [
              "<Figure size 432x288 with 2 Axes>"
            ],
            "image/png": "[encoded data removed]"
          },
          "metadata": {}
        }
      ],
      "source": [
        "numeric_metrics(Support_Vector_Machine)\n",
        "Confusion_Matrix(Support_Vector_Machine,\"SVM\")"
      ]
    },
    {
      "cell_type": "markdown",
      "id": "d66440fb",
      "metadata": {
        "id": "d66440fb"
      },
      "source": [
        "## Logistic Regreession"
      ]
    },
    {
      "cell_type": "code",
      "execution_count": 37,
      "id": "6af2d642",
      "metadata": {
        "colab": {
          "base_uri": "https://localhost:8080/",
          "height": 372
        },
        "id": "6af2d642",
        "outputId": "abd94a53-c65d-436b-d385-b133c9d2c12f"
      },
      "outputs": [
        {
          "output_type": "stream",
          "name": "stdout",
          "text": [
            "Accuracy: 75.00 (+/- 12.36)\n",
            "Recall: 75.94 (+/- 13.06)\n",
            "Precision: 76.70 (+/- 13.72)\n",
            "F1 Score: 74.74 (+/- 13.80)\n",
            "Fitting time : 0.009096741676330566\n"
          ]
        },
        {
          "output_type": "display_data",
          "data": {
            "text/plain": [
              "<Figure size 432x288 with 2 Axes>"
            ],
            "image/png": "[encoded data removed]"
          },
          "metadata": {}
        }
      ],
      "source": [
        "numeric_metrics(Logistic_Regression)\n",
        "Confusion_Matrix(Logistic_Regression,\"LR\")"
      ]
    },
    {
      "cell_type": "markdown",
      "id": "c6e8d213",
      "metadata": {
        "id": "c6e8d213"
      },
      "source": [
        "## Gaussian Naive Bayes"
      ]
    },
    {
      "cell_type": "code",
      "execution_count": 38,
      "id": "a064a4cc",
      "metadata": {
        "colab": {
          "base_uri": "https://localhost:8080/",
          "height": 372
        },
        "id": "a064a4cc",
        "outputId": "b1666b0b-32a9-4d35-dfaa-b71a52fce8e1"
      },
      "outputs": [
        {
          "output_type": "stream",
          "name": "stdout",
          "text": [
            "Accuracy: 74.17 (+/- 9.46)\n",
            "Recall: 79.33 (+/- 8.30)\n",
            "Precision: 76.89 (+/- 10.23)\n",
            "F1 Score: 75.22 (+/- 9.93)\n",
            "Fitting time : 0.0014049768447875976\n"
          ]
        },
        {
          "output_type": "display_data",
          "data": {
            "text/plain": [
              "<Figure size 432x288 with 2 Axes>"
            ],
            "image/png": "[encoded data removed]"
          },
          "metadata": {}
        }
      ],
      "source": [
        "numeric_metrics(Gaussian_NB)\n",
        "Confusion_Matrix(Gaussian_NB,\"GaussianNB\")"
      ]
    },
    {
      "cell_type": "markdown",
      "id": "ab5ea081",
      "metadata": {
        "id": "ab5ea081"
      },
      "source": [
        "# Limitations\n",
        "\n",
        "Investigating instance where we faced limitation in our model"
      ]
    },
    {
      "cell_type": "code",
      "execution_count": 39,
      "id": "304c0ba1",
      "metadata": {
        "colab": {
          "base_uri": "https://localhost:8080/",
          "height": 319
        },
        "id": "304c0ba1",
        "outputId": "aece7f3e-d008-4948-873a-2b8a1fac771b"
      },
      "outputs": [
        {
          "output_type": "execute_result",
          "data": {
            "text/plain": [
              "0    M\n",
              "dtype: object"
            ]
          },
          "metadata": {},
          "execution_count": 39
        },
        {
          "output_type": "display_data",
          "data": {
            "text/plain": [
              "<Figure size 432x288 with 1 Axes>"
            ],
            "image/png": "[encoded data removed]"
          },
          "metadata": {}
        }
      ],
      "source": [
        "ax = sns.countplot(x='Class',data=df)\n",
        "ax.tick_params(axis='x', rotation=90)\n",
        "df['Class'].mode()"
      ]
    },
    {
      "cell_type": "code",
      "execution_count": 40,
      "id": "41f1f94b",
      "metadata": {
        "colab": {
          "base_uri": "https://localhost:8080/"
        },
        "id": "41f1f94b",
        "outputId": "aecd107e-ab60-48dc-a176-d33cfa795334"
      },
      "outputs": [
        {
          "output_type": "execute_result",
          "data": {
            "text/plain": [
              "(127, 17)"
            ]
          },
          "metadata": {},
          "execution_count": 40
        }
      ],
      "source": [
        " df[df['Class']=='L'].shape"
      ]
    },
    {
      "cell_type": "code",
      "execution_count": 41,
      "id": "cb7fb52c",
      "metadata": {
        "colab": {
          "base_uri": "https://localhost:8080/"
        },
        "id": "cb7fb52c",
        "outputId": "10f4556a-fb8a-402e-8902-206eb0fb2a30"
      },
      "outputs": [
        {
          "output_type": "execute_result",
          "data": {
            "text/plain": [
              "(211, 17)"
            ]
          },
          "metadata": {},
          "execution_count": 41
        }
      ],
      "source": [
        "df[df['Class']=='M'].shape"
      ]
    },
    {
      "cell_type": "code",
      "execution_count": 42,
      "id": "22a2355b",
      "metadata": {
        "colab": {
          "base_uri": "https://localhost:8080/"
        },
        "id": "22a2355b",
        "outputId": "eb2536a4-300e-4c00-b49f-4be1cc6c4fc6"
      },
      "outputs": [
        {
          "output_type": "execute_result",
          "data": {
            "text/plain": [
              "(142, 17)"
            ]
          },
          "metadata": {},
          "execution_count": 42
        }
      ],
      "source": [
        " df[df['Class']=='H'].shape"
      ]
    },
    {
      "cell_type": "code",
      "execution_count": 43,
      "id": "7601486b",
      "metadata": {
        "colab": {
          "base_uri": "https://localhost:8080/"
        },
        "id": "7601486b",
        "outputId": "551593b5-58f4-43b1-fd91-0ee61c7b6680"
      },
      "outputs": [
        {
          "output_type": "execute_result",
          "data": {
            "text/plain": [
              "(480, 17)"
            ]
          },
          "metadata": {},
          "execution_count": 43
        }
      ],
      "source": [
        " df.shape"
      ]
    },
    {
      "cell_type": "code",
      "execution_count": 44,
      "id": "32d26fbf",
      "metadata": {
        "colab": {
          "base_uri": "https://localhost:8080/"
        },
        "id": "32d26fbf",
        "outputId": "2800b285-5a6c-4513-9882-e6f07d72c63e"
      },
      "outputs": [
        {
          "output_type": "execute_result",
          "data": {
            "text/plain": [
              "0.26458333333333334"
            ]
          },
          "metadata": {},
          "execution_count": 44
        }
      ],
      "source": [
        "127/480"
      ]
    },
    {
      "cell_type": "code",
      "execution_count": 45,
      "id": "c23472c3",
      "metadata": {
        "colab": {
          "base_uri": "https://localhost:8080/"
        },
        "id": "c23472c3",
        "outputId": "d045fb63-ae31-4f59-f308-565b49dfcf98"
      },
      "outputs": [
        {
          "output_type": "execute_result",
          "data": {
            "text/plain": [
              "0.4395833333333333"
            ]
          },
          "metadata": {},
          "execution_count": 45
        }
      ],
      "source": [
        "211/480"
      ]
    },
    {
      "cell_type": "code",
      "execution_count": 46,
      "id": "36849b3d",
      "metadata": {
        "colab": {
          "base_uri": "https://localhost:8080/"
        },
        "id": "36849b3d",
        "outputId": "9a57b0dd-1e59-42de-b980-a524ace343cc"
      },
      "outputs": [
        {
          "output_type": "execute_result",
          "data": {
            "text/plain": [
              "0.29583333333333334"
            ]
          },
          "metadata": {},
          "execution_count": 46
        }
      ],
      "source": [
        "142/480"
      ]
    },
    {
      "cell_type": "code",
      "execution_count": null,
      "id": "516a84b3",
      "metadata": {
        "id": "516a84b3"
      },
      "outputs": [],
      "source": []
    }
  ],
  "metadata": {
    "kernelspec": {
      "display_name": "Python 3",
      "language": "python",
      "name": "python3"
    },
    "language_info": {
      "codemirror_mode": {
        "name": "ipython",
        "version": 3
      },
      "file_extension": ".py",
      "mimetype": "text/x-python",
      "name": "python",
      "nbconvert_exporter": "python",
      "pygments_lexer": "ipython3",
      "version": "3.8.8"
    },
    "colab": {
      "provenance": [],
      "include_colab_link": true
    },
    "accelerator": "GPU",
    "gpuClass": "standard"
  },
  "nbformat": 4,
  "nbformat_minor": 5
}